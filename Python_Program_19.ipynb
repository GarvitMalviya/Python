{
 "cells": [
  {
   "cell_type": "markdown",
   "id": "5f8777ab",
   "metadata": {},
   "source": [
    "### 1. Create a function that takes a string and returns a string in which each character is repeated once."
   ]
  },
  {
   "cell_type": "code",
   "execution_count": 7,
   "id": "4a7913ae",
   "metadata": {},
   "outputs": [],
   "source": [
    "def double_char(s):\n",
    "    return \"\".join([c * 2 for c in s])"
   ]
  },
  {
   "cell_type": "code",
   "execution_count": 10,
   "id": "c4a7b1ca",
   "metadata": {},
   "outputs": [
    {
     "data": {
      "text/plain": [
       "'HHeelllloo  WWoorrlldd'"
      ]
     },
     "execution_count": 10,
     "metadata": {},
     "output_type": "execute_result"
    }
   ],
   "source": [
    "double_char(\"Hello World\")"
   ]
  },
  {
   "cell_type": "markdown",
   "id": "86869ff6",
   "metadata": {},
   "source": [
    "### 2. Create a function that reverses a boolean value and returns the string &quot;boolean expected&quot if another variable type is given."
   ]
  },
  {
   "cell_type": "code",
   "execution_count": 11,
   "id": "f07ae117",
   "metadata": {},
   "outputs": [
    {
     "name": "stdout",
     "output_type": "stream",
     "text": [
      "False\n",
      "True\n",
      "boolean expected\n",
      "boolean expected\n"
     ]
    }
   ],
   "source": [
    "def rev(arg):\n",
    "    if arg == bool:\n",
    "        return not arg\n",
    "    else:\n",
    "        return \"Boolean expected\"\n",
    "def rev(arg):\n",
    "    if isinstance(arg, bool):\n",
    "        return not arg\n",
    "    else:\n",
    "        return('boolean expected')\n",
    "def rev(arg=None):\n",
    "    return not arg if type(arg)==bool else \"boolean expected\"\n",
    "print(rev(True))\n",
    "print(rev(False))\n",
    "print(rev(0))\n",
    "print(rev(None))"
   ]
  },
  {
   "cell_type": "markdown",
   "id": "307cae37",
   "metadata": {},
   "source": [
    "### 3. Create a function that takes a single string as argument and returns an ordered list containing the indices of all capital letters in the string."
   ]
  },
  {
   "cell_type": "code",
   "execution_count": 20,
   "id": "8b6082eb",
   "metadata": {},
   "outputs": [],
   "source": [
    "def capitals(word):\n",
    "    inds = []\n",
    "    i = 0\n",
    "    for l in word:\n",
    "        if l.isupper():\n",
    "            inds.append(i)\n",
    "        i += 1\n",
    "    return inds"
   ]
  },
  {
   "cell_type": "code",
   "execution_count": 23,
   "id": "061d2add",
   "metadata": {},
   "outputs": [
    {
     "data": {
      "text/plain": [
       "[1, 3, 5]"
      ]
     },
     "execution_count": 23,
     "metadata": {},
     "output_type": "execute_result"
    }
   ],
   "source": [
    "capitals('eDaBiT')"
   ]
  },
  {
   "cell_type": "markdown",
   "id": "6553ebcc",
   "metadata": {},
   "source": [
    "### 4. Using list comprehensions, create a function that finds all even numbers from 1 to the given number."
   ]
  },
  {
   "cell_type": "code",
   "execution_count": 25,
   "id": "8ae51703",
   "metadata": {},
   "outputs": [
    {
     "name": "stdout",
     "output_type": "stream",
     "text": [
      "[0, 2, 4, 6]\n"
     ]
    }
   ],
   "source": [
    "even_nums = []\n",
    "for x in range(8):\n",
    "    if x%2 == 0:\n",
    "        even_nums.append(x)\n",
    "print(even_nums)"
   ]
  },
  {
   "cell_type": "code",
   "execution_count": null,
   "id": "b0d3f3ab",
   "metadata": {},
   "outputs": [],
   "source": []
  }
 ],
 "metadata": {
  "kernelspec": {
   "display_name": "Python 3 (ipykernel)",
   "language": "python",
   "name": "python3"
  },
  "language_info": {
   "codemirror_mode": {
    "name": "ipython",
    "version": 3
   },
   "file_extension": ".py",
   "mimetype": "text/x-python",
   "name": "python",
   "nbconvert_exporter": "python",
   "pygments_lexer": "ipython3",
   "version": "3.9.7"
  }
 },
 "nbformat": 4,
 "nbformat_minor": 5
}
