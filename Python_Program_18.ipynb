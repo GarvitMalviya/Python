{
 "cells": [
  {
   "cell_type": "markdown",
   "id": "e84c9d9e",
   "metadata": {},
   "source": [
    "### 1.Create a function that takes a list of non-negative integers and strings and return a new list without the strings."
   ]
  },
  {
   "cell_type": "code",
   "execution_count": 1,
   "id": "73ae6e98",
   "metadata": {},
   "outputs": [
    {
     "name": "stdout",
     "output_type": "stream",
     "text": [
      "[1, 3]\n"
     ]
    }
   ],
   "source": [
    "a =[1,3,'a','b']\n",
    "def filterr(a):\n",
    "    n_list=[]\n",
    "    for x in a:\n",
    "        if type(x)==int:\n",
    "            n_list.append(x)\n",
    "    return n_list\n",
    "print(filterr(a))"
   ]
  },
  {
   "cell_type": "markdown",
   "id": "7d9a6289",
   "metadata": {},
   "source": [
    "### 2.The &quot;Reverser&quot; takes a string as input and returns that string in reverse order, with the opposite case."
   ]
  },
  {
   "cell_type": "code",
   "execution_count": 2,
   "id": "0d075637",
   "metadata": {},
   "outputs": [
    {
     "name": "stdout",
     "output_type": "stream",
     "text": [
      "science atad rof nohtPy\n"
     ]
    }
   ],
   "source": [
    "def reverse(a, start,end):\n",
    "    while start<end:\n",
    "        a[start], a[end] = a[end], a[start]\n",
    "        start = start +1\n",
    "        end -=1\n",
    "a = 'Python for data science'\n",
    "a = list(a)\n",
    "start=0\n",
    "while True:\n",
    "    try:\n",
    "        end = a.index(' ', start)\n",
    "        reverse(a, start, end=1)\n",
    "        start = end+1\n",
    "    except ValueError:\n",
    "        reverse(a, start, len(a)-1)\n",
    "        break\n",
    "a.reverse()\n",
    "a=\"\".join(a)\n",
    "print(a)\n",
    "        \n"
   ]
  },
  {
   "cell_type": "markdown",
   "id": "f4c27e6a",
   "metadata": {},
   "source": [
    "### 3.Your task is to unpack the list writeyourcodehere into three variables, being first, middle, and last, with middle being everything in between the first and last element. Then print all three variables."
   ]
  },
  {
   "cell_type": "code",
   "execution_count": 5,
   "id": "8626bf65",
   "metadata": {},
   "outputs": [
    {
     "name": "stdout",
     "output_type": "stream",
     "text": [
      "('Python', 5, 'Developer')\n",
      "<class 'tuple'>\n",
      "Python\n",
      "5\n",
      "Developer\n"
     ]
    }
   ],
   "source": [
    "emp_info='Python',5,'Developer'\n",
    "print (emp_info)\n",
    "\n",
    "print (type(emp_info))\n",
    "\n",
    "skill,exp,role=emp_info\n",
    "print (skill)\n",
    "print (exp)\n",
    "print (role)"
   ]
  },
  {
   "cell_type": "markdown",
   "id": "829a0f58",
   "metadata": {},
   "source": [
    "### 4. Write a function that calculates the factorial of a number recursively."
   ]
  },
  {
   "cell_type": "code",
   "execution_count": 8,
   "id": "6208510f",
   "metadata": {},
   "outputs": [
    {
     "name": "stdout",
     "output_type": "stream",
     "text": [
      "Enter a number: 12\n",
      "The factorial of 12 is 479001600\n"
     ]
    }
   ],
   "source": [
    "def recur(a):\n",
    "    if a == 1:\n",
    "        return a\n",
    "    else:\n",
    "        return a*recur(a-1)\n",
    "\n",
    "num = int(input(\"Enter a number: \"))\n",
    "if num < 0:\n",
    "    print(\"Not a Factorial NUmber: \")\n",
    "elif num == 0:\n",
    "    print(\"Factorial of 0 = 1\")\n",
    "else:\n",
    "    print(\"The factorial of\", num, \"is\", recur(num))"
   ]
  },
  {
   "cell_type": "markdown",
   "id": "c2383c85",
   "metadata": {},
   "source": [
    "### 5. Write a function that moves all elements of one type to the end of the list."
   ]
  },
  {
   "cell_type": "code",
   "execution_count": null,
   "id": "1f349b7d",
   "metadata": {},
   "outputs": [],
   "source": [
    "list_1 = ['2','5','7','12','19']\n",
    "\n",
    "# printing original list\n",
    "print (\"The list is \" str(test_list))\n",
    "\n",
    "# using sort() + key = (__eq__)\n",
    "# moving element to end\n",
    "test_list.sort(key = ’5’.__eq__)\n",
    "\n",
    "# printing result\n",
    "print (\"The modified element moved list is : \" + str(test_list))\n"
   ]
  }
 ],
 "metadata": {
  "kernelspec": {
   "display_name": "Python 3 (ipykernel)",
   "language": "python",
   "name": "python3"
  },
  "language_info": {
   "codemirror_mode": {
    "name": "ipython",
    "version": 3
   },
   "file_extension": ".py",
   "mimetype": "text/x-python",
   "name": "python",
   "nbconvert_exporter": "python",
   "pygments_lexer": "ipython3",
   "version": "3.9.7"
  }
 },
 "nbformat": 4,
 "nbformat_minor": 5
}
