{
 "cells": [
  {
   "cell_type": "markdown",
   "id": "55db17fa",
   "metadata": {},
   "source": [
    "### Python program to convert kilometers to miles"
   ]
  },
  {
   "cell_type": "code",
   "execution_count": 1,
   "id": "f3480e84",
   "metadata": {},
   "outputs": [
    {
     "name": "stdout",
     "output_type": "stream",
     "text": [
      "Enter the Kilometers : 2\n",
      "Kilometers in miles is : 1.24274\n"
     ]
    }
   ],
   "source": [
    "a = float(input(\"Enter the Kilometers : \"))\n",
    "b = a*0.62137\n",
    "print(\"Kilometers in miles is :\", b)"
   ]
  },
  {
   "cell_type": "markdown",
   "id": "7cff6ec5",
   "metadata": {},
   "source": [
    "\n",
    "### Python program to convert Celsius to Fahrenheit?"
   ]
  },
  {
   "cell_type": "code",
   "execution_count": 3,
   "id": "caa15fce",
   "metadata": {},
   "outputs": [
    {
     "name": "stdout",
     "output_type": "stream",
     "text": [
      "Enter the degree in celsius : 3\n",
      "The degree in Fahrenheit is :  37.4\n"
     ]
    }
   ],
   "source": [
    "a = float(input(\"Enter the degree in celsius : \"))\n",
    "b = (a *1.8)+32\n",
    "print(\"The degree in Fahrenheit is : \", b)"
   ]
  },
  {
   "cell_type": "markdown",
   "id": "14132395",
   "metadata": {},
   "source": [
    "### Python program to display calendar?"
   ]
  },
  {
   "cell_type": "code",
   "execution_count": 4,
   "id": "b40a97ab",
   "metadata": {},
   "outputs": [
    {
     "name": "stdout",
     "output_type": "stream",
     "text": [
      "   February 2022\n",
      "Mo Tu We Th Fr Sa Su\n",
      "    1  2  3  4  5  6\n",
      " 7  8  9 10 11 12 13\n",
      "14 15 16 17 18 19 20\n",
      "21 22 23 24 25 26 27\n",
      "28\n",
      "\n"
     ]
    }
   ],
   "source": [
    "yy=2022\n",
    "mm= 2\n",
    "import calendar\n",
    "print(calendar.month(yy,mm))"
   ]
  },
  {
   "cell_type": "markdown",
   "id": "d001f5f8",
   "metadata": {},
   "source": [
    "### Python program to solve quadratic equation?"
   ]
  },
  {
   "cell_type": "code",
   "execution_count": 9,
   "id": "b547ed9f",
   "metadata": {},
   "outputs": [
    {
     "name": "stdout",
     "output_type": "stream",
     "text": [
      "Enter the number : 3\n",
      "Enter the number : 4\n",
      "Enter the number : 5\n",
      "The roots are :  (-0.6666666666666666-1.1055415967851332j) (-0.6666666666666666+1.1055415967851332j)\n"
     ]
    }
   ],
   "source": [
    "import cmath\n",
    "a=float(input(\"Enter the number : \"))\n",
    "b=float(input(\"Enter the number : \"))\n",
    "c=float(input(\"Enter the number : \"))\n",
    "d = (b**2)-(4*a*c)\n",
    "root1 = (-b - cmath.sqrt(d))/(2 * a)\n",
    "root2 = (-b + cmath.sqrt(d))/(2 * a)\n",
    "print(\"The roots are : \",root1,root2)\n",
    "   \n",
    "    \n"
   ]
  },
  {
   "cell_type": "markdown",
   "id": "df1f99da",
   "metadata": {},
   "source": [
    "### Python program to swap two variable without temp"
   ]
  },
  {
   "cell_type": "code",
   "execution_count": 10,
   "id": "93b0f3a6",
   "metadata": {},
   "outputs": [
    {
     "name": "stdout",
     "output_type": "stream",
     "text": [
      "Enter a Number : 3\n",
      "Enter a Number : 4\n",
      "Numbers before swaping : 3 4\n",
      "Numbers after swaping:  4 3\n"
     ]
    }
   ],
   "source": [
    "a = int(input(\"Enter a Number : \"))\n",
    "b = int(input(\"Enter a Number : \"))\n",
    "print(\"Numbers before swaping :\", a, b)\n",
    "a,b =b,a\n",
    "print(\"Numbers after swaping: \", a ,b)"
   ]
  },
  {
   "cell_type": "code",
   "execution_count": null,
   "id": "1beb64a0",
   "metadata": {},
   "outputs": [],
   "source": []
  }
 ],
 "metadata": {
  "kernelspec": {
   "display_name": "Python 3 (ipykernel)",
   "language": "python",
   "name": "python3"
  },
  "language_info": {
   "codemirror_mode": {
    "name": "ipython",
    "version": 3
   },
   "file_extension": ".py",
   "mimetype": "text/x-python",
   "name": "python",
   "nbconvert_exporter": "python",
   "pygments_lexer": "ipython3",
   "version": "3.9.7"
  }
 },
 "nbformat": 4,
 "nbformat_minor": 5
}
