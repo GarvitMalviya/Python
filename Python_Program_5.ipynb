{
 "cells": [
  {
   "cell_type": "markdown",
   "id": "ffc86587",
   "metadata": {},
   "source": [
    "### 1. Write a program to find LCM"
   ]
  },
  {
   "cell_type": "code",
   "execution_count": 1,
   "id": "ef286af0",
   "metadata": {},
   "outputs": [],
   "source": [
    "def lcm():\n",
    "    a = int(input(\"Enter a Number: \"))\n",
    "    b = int(input(\"Enter a Number: \"))\n",
    "\n",
    "    if (a>b):\n",
    "        max = a\n",
    "    else:\n",
    "        max= b\n",
    "    while(True):\n",
    "        if(max%a==0 & max%b==0):\n",
    "            print(\"LCM of\",a,\"and\",b,\"are\", max)\n",
    "            break;\n",
    "        max = max+1"
   ]
  },
  {
   "cell_type": "code",
   "execution_count": 2,
   "id": "53abf57b",
   "metadata": {},
   "outputs": [
    {
     "name": "stdout",
     "output_type": "stream",
     "text": [
      "Enter a Number: 12\n",
      "Enter a Number: 24\n",
      "LCM of 12 and 24 are 24\n"
     ]
    }
   ],
   "source": [
    "lcm()"
   ]
  },
  {
   "cell_type": "markdown",
   "id": "6eed0e92",
   "metadata": {},
   "source": [
    "### 2. Write a program to find HCf"
   ]
  },
  {
   "cell_type": "code",
   "execution_count": 6,
   "id": "f80c100a",
   "metadata": {},
   "outputs": [],
   "source": [
    "def hcf():\n",
    "    a = int(input(\"Enter a Number: \"))\n",
    "    b = int(input(\"Enter a Number: \"))\n",
    "    \n",
    "    if (b>a):\n",
    "        min=a\n",
    "    else:\n",
    "        min=b\n",
    "    for i in range(1, min+1):\n",
    "        if((a%i==0) and (b%i==0)):\n",
    "            hcf= i\n",
    "        print(\"The hcf of\",a,\"and\",b,\"are\", hcf)"
   ]
  },
  {
   "cell_type": "code",
   "execution_count": 15,
   "id": "3335944f",
   "metadata": {},
   "outputs": [
    {
     "name": "stdout",
     "output_type": "stream",
     "text": [
      "Enter a Number: 4\n",
      "Enter a Number: 28\n",
      "The hcf of 4 and 28 are 1\n",
      "The hcf of 4 and 28 are 2\n",
      "The hcf of 4 and 28 are 2\n",
      "The hcf of 4 and 28 are 4\n"
     ]
    }
   ],
   "source": [
    " hcf()"
   ]
  },
  {
   "cell_type": "markdown",
   "id": "460db009",
   "metadata": {},
   "source": [
    "### 3. Write a program to Convert Decimal to Binary, Octal and Hexadecimal"
   ]
  },
  {
   "cell_type": "code",
   "execution_count": 13,
   "id": "544bde53",
   "metadata": {},
   "outputs": [],
   "source": [
    "def con():\n",
    "    a = int(input(\"Enter a integer:\"))\n",
    "    print(\"The decimal value of \",a,\"are\")\n",
    "    print(bin(a),\"in binary\")\n",
    "    print(oct(a),\"in octal\")\n",
    "    print(hex(a), \"in hexa\")"
   ]
  },
  {
   "cell_type": "code",
   "execution_count": 14,
   "id": "d03b445c",
   "metadata": {},
   "outputs": [
    {
     "name": "stdout",
     "output_type": "stream",
     "text": [
      "Enter a integer:234\n",
      "The decimal value of  234 are\n",
      "0b11101010 in binary\n",
      "0o352 in octal\n",
      "0xea in hexa\n"
     ]
    }
   ],
   "source": [
    "con()"
   ]
  },
  {
   "cell_type": "markdown",
   "id": "fc2078bd",
   "metadata": {},
   "source": [
    "### 4.Write a Program To Find ASCII value of a character"
   ]
  },
  {
   "cell_type": "code",
   "execution_count": 19,
   "id": "025ad9c5",
   "metadata": {},
   "outputs": [],
   "source": [
    "def ASCII():\n",
    "    a =  str(input(\"Enter a character: \"))\n",
    "    x =ord(a)\n",
    "    print(\"The ASCII value are:\", x)"
   ]
  },
  {
   "cell_type": "code",
   "execution_count": 23,
   "id": "1aeebabe",
   "metadata": {},
   "outputs": [
    {
     "name": "stdout",
     "output_type": "stream",
     "text": [
      "Enter a character: d\n",
      "The ASCII value are: 100\n"
     ]
    }
   ],
   "source": [
    "ASCII()"
   ]
  },
  {
   "cell_type": "markdown",
   "id": "b45ab55c",
   "metadata": {},
   "source": [
    "### 5. Write a Program to make a simple calculator with  basic mathematical operations?"
   ]
  },
  {
   "cell_type": "code",
   "execution_count": 7,
   "id": "60db7508",
   "metadata": {},
   "outputs": [
    {
     "name": "stdout",
     "output_type": "stream",
     "text": [
      "Enter 1st Number: 12\n",
      "Enter 2nd Number: 34\n",
      "Please select the operation\n",
      "Add\n",
      "Subtract\n",
      "Multiply\n",
      "Divide\n",
      "Please enter choice (a/ b/ c/ d): d\n",
      "Divison 0.35294117647058826\n"
     ]
    }
   ],
   "source": [
    "def add(a,b):\n",
    "    return a+b\n",
    "def sub(a,b):\n",
    "    return a-b\n",
    "def mul(a,b):\n",
    "    return a*b\n",
    "def divide(a,b):\n",
    "    try:\n",
    "        return a/b\n",
    "    except ZeroDivisonError:\n",
    "        print(\"Not divisible by zero\")\n",
    "a = float(input(\"Enter 1st Number: \"))\n",
    "b = float(input(\"Enter 2nd Number: \"))\n",
    "\n",
    "print(\"Please select the operation\")\n",
    "print(\"Add\")\n",
    "print(\"Subtract\")\n",
    "print(\"Multiply\")\n",
    "print(\"Divide\")\n",
    "\n",
    "choice = input(\"Please enter choice (a/ b/ c/ d): \")    \n",
    "\n",
    "if choice == 'a':    \n",
    "    print (\"Addition\", add(a,b))    \n",
    "    \n",
    "elif choice == 'b':    \n",
    "    print (\"Subtract\", sub(a,b))    \n",
    "    \n",
    "elif choice == 'c':    \n",
    "    print (\"Multiplication\", mul(a,b))    \n",
    "elif choice == 'd':    \n",
    "    print (\"Divison\", divide(a,b))    \n",
    "else:    \n",
    "    print (\"This is an invalid input\")    "
   ]
  },
  {
   "cell_type": "code",
   "execution_count": null,
   "id": "9a20e1f7",
   "metadata": {},
   "outputs": [],
   "source": []
  }
 ],
 "metadata": {
  "kernelspec": {
   "display_name": "Python 3 (ipykernel)",
   "language": "python",
   "name": "python3"
  },
  "language_info": {
   "codemirror_mode": {
    "name": "ipython",
    "version": 3
   },
   "file_extension": ".py",
   "mimetype": "text/x-python",
   "name": "python",
   "nbconvert_exporter": "python",
   "pygments_lexer": "ipython3",
   "version": "3.9.7"
  }
 },
 "nbformat": 4,
 "nbformat_minor": 5
}
