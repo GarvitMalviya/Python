{
 "cells": [
  {
   "cell_type": "markdown",
   "id": "6ae63d8d",
   "metadata": {},
   "source": [
    "### 1. Create a function that takes three arguments a, b, c and returns the sum of the numbers that are evenly divided by c from the range a, b inclusive."
   ]
  },
  {
   "cell_type": "code",
   "execution_count": 2,
   "id": "77955bf1",
   "metadata": {},
   "outputs": [
    {
     "name": "stdout",
     "output_type": "stream",
     "text": [
      "42\n"
     ]
    }
   ],
   "source": [
    "def summ(a,b,c):\n",
    "    suma=0\n",
    "    for i in range(a,b+1):\n",
    "        if(i%c==0):\n",
    "            suma+=i\n",
    "    return suma\n",
    "if __name__==\"__main__\":\n",
    "    a = 6\n",
    "    b=15\n",
    "    c=3\n",
    "    print(summ(a,b,c))"
   ]
  },
  {
   "cell_type": "markdown",
   "id": "cf5e67a2",
   "metadata": {},
   "source": [
    "### 2. Create a function that returns True if a given inequality expression is correct and False otherwise."
   ]
  },
  {
   "cell_type": "code",
   "execution_count": 4,
   "id": "802a1d63",
   "metadata": {},
   "outputs": [
    {
     "name": "stdout",
     "output_type": "stream",
     "text": [
      "True\n",
      "False\n",
      "True\n"
     ]
    }
   ],
   "source": [
    "def correct_signs(a):\n",
    "    reg=eval(a)\n",
    "    if reg:\n",
    "        return True\n",
    "    else:\n",
    "        return False\n",
    "print(correct_signs(\"3<7<11\"))\n",
    "print(correct_signs(\"13>44>33>1\"))\n",
    "print(correct_signs(\"1<2<6<9>3\"))"
   ]
  },
  {
   "cell_type": "markdown",
   "id": "12b490f5",
   "metadata": {},
   "source": [
    "### 3. Create a function that replaces all the vowels in a string with a specified character."
   ]
  },
  {
   "cell_type": "code",
   "execution_count": 14,
   "id": "5493ac41",
   "metadata": {},
   "outputs": [
    {
     "name": "stdout",
     "output_type": "stream",
     "text": [
      "Given String: Data Science for Python\n",
      "Given replcaeble strig: #\n",
      "After Replacing:  D#t# Sc##nc# f#r Pyth#n\n"
     ]
    }
   ],
   "source": [
    "def vowel(strr,a):\n",
    "    vowels ='AEIOUaeiou'\n",
    "    for ele in vowels:\n",
    "        strr = strr.replace(ele,a)\n",
    "    return strr\n",
    "input0= \"Data Science for Python\"\n",
    "input1 = \"Exploratery Data Analysis\"\n",
    "input2=\"Festure Engineering\"\n",
    "\n",
    "a=\"#\"\n",
    "\n",
    "print(\"Given String:\", input0)\n",
    "print(\"Given replcaeble strig:\", a)\n",
    "\n",
    "print(\"After Replacing: \",vowel(input0, a))"
   ]
  },
  {
   "cell_type": "markdown",
   "id": "34136808",
   "metadata": {},
   "source": [
    "### 4. Write a program using function that calculates the factorial of a number recursively."
   ]
  },
  {
   "cell_type": "code",
   "execution_count": 16,
   "id": "133b8d7b",
   "metadata": {},
   "outputs": [
    {
     "name": "stdout",
     "output_type": "stream",
     "text": [
      "Enter a number: 12\n",
      "The factorial of 12 is 479001600\n"
     ]
    }
   ],
   "source": [
    "def rec(a):\n",
    "    if a==1:\n",
    "        return a\n",
    "    else:\n",
    "        return a*rec(a-1)\n",
    "num = int(input(\"Enter a number: \"))\n",
    "if num<0:\n",
    "    print(\"Factorial not available\")\n",
    "elif num==0:\n",
    "    print(\"Factorial of 0 is 1\")\n",
    "else:\n",
    "    print(\"The factorial of\", num,\"is\",rec(num))"
   ]
  },
  {
   "cell_type": "markdown",
   "id": "68ea902d",
   "metadata": {},
   "source": [
    "### 5. Create a function that computes the hamming distance between two strings."
   ]
  },
  {
   "cell_type": "code",
   "execution_count": 17,
   "id": "2d25c9a8",
   "metadata": {},
   "outputs": [
    {
     "name": "stdout",
     "output_type": "stream",
     "text": [
      "5\n"
     ]
    }
   ],
   "source": [
    "def hamming(a,b):\n",
    "    i=0\n",
    "    count=0\n",
    "    while(i < len(a)):\n",
    "        if(a[i]!=b[i]):\n",
    "            count+=1\n",
    "        i +=1\n",
    "    return count\n",
    "a = \"abcde\"\n",
    "b =\"bcdef\"\n",
    "print(hamming(a,b))\n",
    "    "
   ]
  },
  {
   "cell_type": "code",
   "execution_count": null,
   "id": "06f8d9a0",
   "metadata": {},
   "outputs": [],
   "source": []
  }
 ],
 "metadata": {
  "kernelspec": {
   "display_name": "Python 3 (ipykernel)",
   "language": "python",
   "name": "python3"
  },
  "language_info": {
   "codemirror_mode": {
    "name": "ipython",
    "version": 3
   },
   "file_extension": ".py",
   "mimetype": "text/x-python",
   "name": "python",
   "nbconvert_exporter": "python",
   "pygments_lexer": "ipython3",
   "version": "3.9.7"
  }
 },
 "nbformat": 4,
 "nbformat_minor": 5
}
