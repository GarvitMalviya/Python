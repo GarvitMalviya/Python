{
 "cells": [
  {
   "cell_type": "markdown",
   "id": "b00bb852",
   "metadata": {},
   "source": [
    "### 1. Write a program to find sum of array"
   ]
  },
  {
   "cell_type": "code",
   "execution_count": 2,
   "id": "d7d14231",
   "metadata": {},
   "outputs": [
    {
     "name": "stdout",
     "output_type": "stream",
     "text": [
      "Enter the size: 7\n",
      "Enter array element: \n",
      "34\n",
      "56\n",
      "76\n",
      "54\n",
      "35\n",
      "34\n",
      "24\n",
      "Sum:  313\n"
     ]
    }
   ],
   "source": [
    "a =[]\n",
    "num= int(input(\"Enter the size: \"))\n",
    "print(\"Enter array element: \")\n",
    "for i in range(num):\n",
    "    numbers = int(input())\n",
    "    a.append(numbers)\n",
    "print(\"Sum: \", sum(a))"
   ]
  },
  {
   "cell_type": "markdown",
   "id": "797c6c54",
   "metadata": {},
   "source": [
    "### 2. Write a program to find largest element in an array"
   ]
  },
  {
   "cell_type": "code",
   "execution_count": 5,
   "id": "631d4d68",
   "metadata": {},
   "outputs": [
    {
     "name": "stdout",
     "output_type": "stream",
     "text": [
      "Maximum are as:  45\n"
     ]
    }
   ],
   "source": [
    "arr=[23,45,43,5,34,23]\n",
    "max = arr[0]\n",
    "n = len(arr)\n",
    "for c in range(1, n):\n",
    "    if arr[c]> max:\n",
    "        max= arr[c]\n",
    "print(\"Maximum are as: \", max)"
   ]
  },
  {
   "cell_type": "markdown",
   "id": "e5c2db12",
   "metadata": {},
   "source": [
    "### 3. Write a Python Program for array rotation"
   ]
  },
  {
   "cell_type": "code",
   "execution_count": 14,
   "id": "55f0a0d8",
   "metadata": {},
   "outputs": [
    {
     "name": "stdout",
     "output_type": "stream",
     "text": [
      "After Left Rotation: \n",
      "[23, 45, 33, 23, 45, 23, 44]\n"
     ]
    }
   ],
   "source": [
    "def rotation(a, b):\n",
    "    temp=[]\n",
    "    n = len(a)\n",
    "    for i in range(b,n):\n",
    "        temp.append(a[i])\n",
    "    i = 0\n",
    "    for i in range(0, b):\n",
    "        temp.append(a[i])\n",
    "    a = temp.copy()\n",
    "    return a\n",
    "arr  = [23,45,23,44,23,45,33]\n",
    "print(\"After Left Rotation: \", )\n",
    "print(rotation(arr, 4))"
   ]
  },
  {
   "cell_type": "markdown",
   "id": "5334d71b",
   "metadata": {},
   "source": [
    "### 4. Write a program to split the array and add the first part to the end"
   ]
  },
  {
   "cell_type": "code",
   "execution_count": 19,
   "id": "45fff8e4",
   "metadata": {},
   "outputs": [
    {
     "name": "stdout",
     "output_type": "stream",
     "text": [
      "21\n",
      "23\n",
      "21\n",
      "232\n",
      "12\n",
      "21\n",
      "23\n"
     ]
    }
   ],
   "source": [
    "def split(arr, a,b):\n",
    "    for i in range(0,b):\n",
    "        c = arr[0]\n",
    "    for j in range(0,a-1):\n",
    "        arr[j] = arr[j + 1]\n",
    "    arr[a -1 ]= c\n",
    "arr= [23,21,23,21,232,12,21]\n",
    "a = len(arr)\n",
    "pos = 2\n",
    "split(arr, a, pos)\n",
    "for i in  range (0, a):\n",
    "    print(arr[i])"
   ]
  },
  {
   "cell_type": "markdown",
   "id": "119c0a52",
   "metadata": {},
   "source": [
    "### 5. Write a program to check if given array is Monotonic"
   ]
  },
  {
   "cell_type": "code",
   "execution_count": 11,
   "id": "59f9edc9",
   "metadata": {},
   "outputs": [
    {
     "name": "stdout",
     "output_type": "stream",
     "text": [
      "False\n"
     ]
    }
   ],
   "source": [
    "def ismono(b):\n",
    "    a = len(b)\n",
    "    return (all(b[i]<=b[i+1] for i in range(a-1))or all(b[i]>=b[i+1] for i in range(a -1)))\n",
    "b =[3,4,1,1,4,3]\n",
    "print(ismono(a))\n",
    "    "
   ]
  },
  {
   "cell_type": "code",
   "execution_count": null,
   "id": "bbacf00e",
   "metadata": {},
   "outputs": [],
   "source": []
  }
 ],
 "metadata": {
  "kernelspec": {
   "display_name": "Python 3 (ipykernel)",
   "language": "python",
   "name": "python3"
  },
  "language_info": {
   "codemirror_mode": {
    "name": "ipython",
    "version": 3
   },
   "file_extension": ".py",
   "mimetype": "text/x-python",
   "name": "python",
   "nbconvert_exporter": "python",
   "pygments_lexer": "ipython3",
   "version": "3.9.7"
  }
 },
 "nbformat": 4,
 "nbformat_minor": 5
}
