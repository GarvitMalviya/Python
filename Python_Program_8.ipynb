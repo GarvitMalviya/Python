{
 "cells": [
  {
   "cell_type": "markdown",
   "id": "4e65df50",
   "metadata": {},
   "source": [
    "### 1. Wirte a program to add two matrices"
   ]
  },
  {
   "cell_type": "code",
   "execution_count": 3,
   "id": "b3a21c6b",
   "metadata": {},
   "outputs": [
    {
     "name": "stdout",
     "output_type": "stream",
     "text": [
      "Enter the rows:3\n",
      "Enter the column: 3\n",
      "Element of metric: \n",
      "1\n",
      "2\n",
      "3\n",
      "4\n",
      "5\n",
      "6\n",
      "7\n",
      "7\n",
      "8\n",
      "First Matrice are: \n",
      "[1, 2, 3]\n",
      "[4, 5, 6]\n",
      "[7, 7, 8]\n",
      "Element of metric: \n",
      "1\n",
      "2\n",
      "3\n",
      "4\n",
      "5\n",
      "6\n",
      "7\n",
      "8\n",
      "9\n",
      "[1, 2, 3]\n",
      "[4, 5, 6]\n",
      "[7, 8, 9]\n",
      "Sum of two matric: \n",
      "[2, 4, 6]\n",
      "[8, 10, 12]\n",
      "[14, 15, 17]\n"
     ]
    }
   ],
   "source": [
    "row = int(input(\"Enter the rows:\"))\n",
    "column = int(input(\"Enter the column: \"))\n",
    "\n",
    "print(\"Element of metric: \")\n",
    "m_a = [[int(input()) for i in range(column)] for i in range(row)]\n",
    "print(\"First Matrice are: \")\n",
    "for n in m_a:\n",
    "    print(n)\n",
    "\n",
    "print(\"Element of metric: \")\n",
    "m_b = [[int(input()) for i in range(column)] for i in range(row)]\n",
    "for n in m_b:\n",
    "    print(n)\n",
    "result=[[0 for i in range(column)] for i in range(row)]\n",
    "for i in range(row):\n",
    "    for j in range(column):\n",
    "        result[i][j] = m_a[i][j] + m_b[i][j]\n",
    "print(\"Sum of two matric: \")\n",
    "for r in result:\n",
    "    print(r)"
   ]
  },
  {
   "cell_type": "markdown",
   "id": "667e5170",
   "metadata": {},
   "source": [
    "### 2. Write a program to multiply two matrices"
   ]
  },
  {
   "cell_type": "code",
   "execution_count": 6,
   "id": "ebabe8b3",
   "metadata": {},
   "outputs": [
    {
     "name": "stdout",
     "output_type": "stream",
     "text": [
      "Enter the rows:1\n",
      "Enter the column: 2\n",
      "Element of matrices: \n",
      "2\n",
      "3\n",
      "First Matrices: \n",
      "[2, 3]\n",
      "Enter the column: 2\n",
      "Second Matrices: \n",
      "1\n",
      "2\n",
      "3\n",
      "4\n",
      "[1, 2]\n",
      "[3, 4]\n",
      "Multiplication: \n",
      "[11, 16]\n"
     ]
    }
   ],
   "source": [
    "row = int(input(\"Enter the rows:\"))\n",
    "column = int(input(\"Enter the column: \"))\n",
    "print(\"Element of matrices: \")\n",
    "m_a= [[int(input()) for i in range(column)] for i in range(row)]\n",
    "print(\"First Matrices: \")\n",
    "for n in m_a:\n",
    "    print(n)\n",
    "c_a = int(input(\"Enter the column: \"))\n",
    "print(\"Second Matrices: \")\n",
    "m_b = [[int(input()) for i in range(c_a)] for i in range(column)]\n",
    "for n in m_b:\n",
    "    print(n)\n",
    "\n",
    "result= [[0 for i in range(c_a)] for i in range(row)]\n",
    "for i in range(len(m_a)):\n",
    "    for j in range(len(m_b[0])):\n",
    "        for k in range(len(m_b)):\n",
    "            result [i][j]+=m_a[i][k]*m_b[k][j]\n",
    "print(\"Multiplication: \")\n",
    "for r in result: \n",
    "    print(r)"
   ]
  },
  {
   "cell_type": "markdown",
   "id": "1a76f9d4",
   "metadata": {},
   "source": [
    "### 3. Write a program to transpose a matrix"
   ]
  },
  {
   "cell_type": "code",
   "execution_count": 9,
   "id": "b2abe138",
   "metadata": {},
   "outputs": [
    {
     "name": "stdout",
     "output_type": "stream",
     "text": [
      "Enter the rows: 2\n",
      "Enter the column: 2\n",
      "Enter the element: \n",
      "1\n",
      "2\n",
      "1\n",
      "2\n",
      "Matrix are as follows: \n",
      "[1, 2]\n",
      "[1, 2]\n",
      "Result are: \n",
      "[1, 1]\n",
      "[2, 2]\n"
     ]
    }
   ],
   "source": [
    "row = int(input(\"Enter the rows: \"))\n",
    "column = int(input(\"Enter the column: \"))\n",
    "print(\"Enter the element: \")\n",
    "mat = [[int(input()) for i in range(column)] for i in range(row)]\n",
    "print(\"Matrix are as follows: \")\n",
    "for n in mat:\n",
    "    print(n)\n",
    "result= [[0 for i in range(row)] for j in range(column)]\n",
    "for r in range(row):\n",
    "    for c in range(column): \n",
    "        result[c][r]= mat[r][c]\n",
    "print(\"Result are: \")\n",
    "for r in result:\n",
    "    print(r)"
   ]
  },
  {
   "cell_type": "markdown",
   "id": "3c0ff88c",
   "metadata": {},
   "source": [
    "### 4. Write a program to sort words in alphabetical order"
   ]
  },
  {
   "cell_type": "code",
   "execution_count": 10,
   "id": "7dea3a56",
   "metadata": {},
   "outputs": [
    {
     "name": "stdout",
     "output_type": "stream",
     "text": [
      "Enter a string: My name is Garvit Malviya\n",
      "The sorted word are: \n",
      "Garvit\n",
      "Malviya\n",
      "My\n",
      "is\n",
      "name\n"
     ]
    }
   ],
   "source": [
    "a = input(\"Enter a string: \")\n",
    "b = a.split()\n",
    "b.sort()\n",
    "print(\"The sorted word are: \")\n",
    "for word in b:\n",
    "    print(word)"
   ]
  },
  {
   "cell_type": "code",
   "execution_count": null,
   "id": "49e725c3",
   "metadata": {},
   "outputs": [],
   "source": [
    "5. Write a progra"
   ]
  },
  {
   "cell_type": "code",
   "execution_count": 11,
   "id": "b00ceed3",
   "metadata": {},
   "outputs": [
    {
     "name": "stdout",
     "output_type": "stream",
     "text": [
      "Enter a string: My name $@&^* is %^&* GG\n",
      "Without punctucation are : My name  is  GG\n"
     ]
    }
   ],
   "source": [
    "pun='''!()-[]{};:'\"\\,<>./?@#$%^&*_~'''\n",
    "a = input(\"Enter a string: \")\n",
    "np = \"\"\n",
    "for char in a:\n",
    "    if char not in pun:\n",
    "        np = np +char\n",
    "print(\"Without punctucation are :\", np)"
   ]
  },
  {
   "cell_type": "code",
   "execution_count": null,
   "id": "4565b0f9",
   "metadata": {},
   "outputs": [],
   "source": []
  }
 ],
 "metadata": {
  "kernelspec": {
   "display_name": "Python 3 (ipykernel)",
   "language": "python",
   "name": "python3"
  },
  "language_info": {
   "codemirror_mode": {
    "name": "ipython",
    "version": 3
   },
   "file_extension": ".py",
   "mimetype": "text/x-python",
   "name": "python",
   "nbconvert_exporter": "python",
   "pygments_lexer": "ipython3",
   "version": "3.9.7"
  }
 },
 "nbformat": 4,
 "nbformat_minor": 5
}
