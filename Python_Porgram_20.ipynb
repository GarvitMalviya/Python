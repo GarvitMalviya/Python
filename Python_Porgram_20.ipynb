{
 "cells": [
  {
   "cell_type": "markdown",
   "id": "3d1ff0d4",
   "metadata": {},
   "source": [
    "### 1. Create a function that takes a list of strings and integers, and filters out the list so that it returns a list of integers only."
   ]
  },
  {
   "cell_type": "code",
   "execution_count": 3,
   "id": "b6d9681d",
   "metadata": {},
   "outputs": [
    {
     "name": "stdout",
     "output_type": "stream",
     "text": [
      "[1, 2, 12]\n"
     ]
    }
   ],
   "source": [
    "a = [1,2,'a','b',12,'c']\n",
    "\n",
    "def filterr(a):\n",
    "    n_list = []\n",
    "    for x in a:\n",
    "        if type(x) == int:\n",
    "            n_list.append(x)\n",
    "    return n_list\n",
    "\n",
    "print(filterr(a))"
   ]
  },
  {
   "cell_type": "code",
   "execution_count": null,
   "id": "d641caea",
   "metadata": {},
   "outputs": [],
   "source": []
  }
 ],
 "metadata": {
  "kernelspec": {
   "display_name": "Python 3 (ipykernel)",
   "language": "python",
   "name": "python3"
  },
  "language_info": {
   "codemirror_mode": {
    "name": "ipython",
    "version": 3
   },
   "file_extension": ".py",
   "mimetype": "text/x-python",
   "name": "python",
   "nbconvert_exporter": "python",
   "pygments_lexer": "ipython3",
   "version": "3.9.7"
  }
 },
 "nbformat": 4,
 "nbformat_minor": 5
}
