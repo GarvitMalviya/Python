{
 "cells": [
  {
   "cell_type": "markdown",
   "id": "c56e92d9",
   "metadata": {},
   "source": [
    "### 1. Write a program to extract unique values dictionary values."
   ]
  },
  {
   "cell_type": "code",
   "execution_count": 2,
   "id": "e00126cb",
   "metadata": {},
   "outputs": [
    {
     "name": "stdout",
     "output_type": "stream",
     "text": [
      "The original dictionary is: {'Fsds': [5, 6, 7, 8], 'Batch': [10, 4, 3, 1], 'for': [23, 12, 11, 43], 'DataSci': [1, 2, 3, 4]}\n",
      "The unique list is: [1, 2, 3, 4, 5, 6, 7, 8, 10, 11, 12, 23, 43]\n"
     ]
    }
   ],
   "source": [
    "dict = {\n",
    "    'Fsds': [5,6,7,8],\n",
    "    'Batch': [10,4,3,1],\n",
    "    'for': [23,12,11,43],\n",
    "    'DataSci': [1,2,3,4]\n",
    "}\n",
    "print('The original dictionary is: '+str(dict))\n",
    "res= list(sorted({ele for val in dict.values() for ele in val}))\n",
    "print('The unique list is: ' +str(res))"
   ]
  },
  {
   "cell_type": "markdown",
   "id": "6fd6c584",
   "metadata": {},
   "source": [
    "### 2. Write a program to find sum of all items in dictionary"
   ]
  },
  {
   "cell_type": "code",
   "execution_count": 4,
   "id": "03abf183",
   "metadata": {},
   "outputs": [
    {
     "name": "stdout",
     "output_type": "stream",
     "text": [
      "Dictioanry {'Fsds': 5, 'Batch': 10}\n",
      "Sum 15\n"
     ]
    }
   ],
   "source": [
    "def Sum(dict):\n",
    "    a =0\n",
    "    for i in dict.values():\n",
    "        a = a+i\n",
    "    return a \n",
    "dict={'Fsds': 5,\n",
    "    'Batch': 10}\n",
    "print(\"Dictioanry\", dict)\n",
    "print(\"Sum\", Sum(dict))\n",
    "    "
   ]
  },
  {
   "cell_type": "markdown",
   "id": "ea6c9428",
   "metadata": {},
   "source": [
    "### 3. Write a program to merge two dictionary"
   ]
  },
  {
   "cell_type": "code",
   "execution_count": 6,
   "id": "1d9affd9",
   "metadata": {},
   "outputs": [
    {
     "name": "stdout",
     "output_type": "stream",
     "text": [
      "{'a': 1, 'b': 2, 'x': 3, 'y': 8}\n"
     ]
    }
   ],
   "source": [
    "def Merge(d1, d2):\n",
    "    res= d1 | d2\n",
    "    return res\n",
    "\n",
    "d1 = {'a': 1,\n",
    "     'b': 2}\n",
    "d2 = {'x': 3,\n",
    "     'y': 8}\n",
    "d3= Merge(d1,d2)\n",
    "print(d3)"
   ]
  },
  {
   "cell_type": "markdown",
   "id": "62debd2e",
   "metadata": {},
   "source": [
    "### 4. write a program to convert key values into flat dictionary"
   ]
  },
  {
   "cell_type": "code",
   "execution_count": 1,
   "id": "ce7ed2fe",
   "metadata": {},
   "outputs": [
    {
     "name": "stdout",
     "output_type": "stream",
     "text": [
      "The Dictionary is:  {'Marks': [34, 43, 34, 65, 44], 'Subject': ['Math', 'Science', 'Python', 'C++', 'Java']}\n",
      "The flat dictionary are:  {34: 'Python', 43: 'Science', 65: 'C++', 44: 'Java'}\n"
     ]
    }
   ],
   "source": [
    "from itertools import product\n",
    "dict1={'Marks':[34,43,34,65,44], 'Subject':['Math', 'Science','Python', 'C++', 'Java']}\n",
    "print('The Dictionary is: ', dict1)\n",
    "result = dict(zip(dict1['Marks'], dict1['Subject']))\n",
    "print(\"The flat dictionary are: \", result)"
   ]
  },
  {
   "cell_type": "markdown",
   "id": "dd33fb43",
   "metadata": {},
   "source": [
    "### 5. Write a program to insertion at the beginning in OrderDict"
   ]
  },
  {
   "cell_type": "code",
   "execution_count": 4,
   "id": "8e2d250b",
   "metadata": {},
   "outputs": [
    {
     "name": "stdout",
     "output_type": "stream",
     "text": [
      "OrderedDict([('a', '123'), ('b', '654'), ('c', '2345'), ('d', '21345')])\n",
      "Result: \n",
      "OrderedDict([('d', '21345'), ('a', '123'), ('b', '654'), ('c', '2345')])\n"
     ]
    }
   ],
   "source": [
    "from collections import OrderedDict\n",
    "dict1 = OrderedDict([('a','123'),('b', '654'),('c', '2345')])\n",
    "\n",
    "dict1.update({'d': '21345'})\n",
    "print(dict1)\n",
    "\n",
    "dict1.move_to_end('d',last=False)\n",
    "\n",
    "print('Result: ')\n",
    "print(dict1)"
   ]
  },
  {
   "cell_type": "markdown",
   "id": "f00be3e8",
   "metadata": {},
   "source": [
    "### 6. Write a program to check order of character in string using OrderedDict()"
   ]
  },
  {
   "cell_type": "code",
   "execution_count": 10,
   "id": "8e0d65de",
   "metadata": {},
   "outputs": [
    {
     "name": "stdout",
     "output_type": "stream",
     "text": [
      "True\n"
     ]
    }
   ],
   "source": [
    "from collections import OrderedDict\n",
    "def check(str, a):\n",
    "    dic = OrderedDict.fromkeys(str)\n",
    "    ptr=0\n",
    "    for key,value in dic.items():\n",
    "        if(key == a[ptr]):\n",
    "            ptr = ptr+1\n",
    "        if (ptr== (len(a))):\n",
    "            return 'True'\n",
    "    return 'False'\n",
    "str = 'Welcome to python'\n",
    "a = 'Wel'\n",
    "print(check(str, a))\n"
   ]
  },
  {
   "cell_type": "markdown",
   "id": "f1bb067b",
   "metadata": {},
   "source": [
    "### 7. Write a program to sort python dictionar by key or values."
   ]
  },
  {
   "cell_type": "code",
   "execution_count": null,
   "id": "a6c808a0",
   "metadata": {},
   "outputs": [],
   "source": []
  },
  {
   "cell_type": "code",
   "execution_count": null,
   "id": "e601f4f6",
   "metadata": {},
   "outputs": [],
   "source": []
  },
  {
   "cell_type": "code",
   "execution_count": null,
   "id": "4988d76a",
   "metadata": {},
   "outputs": [],
   "source": []
  },
  {
   "cell_type": "code",
   "execution_count": null,
   "id": "711638fa",
   "metadata": {},
   "outputs": [],
   "source": []
  }
 ],
 "metadata": {
  "kernelspec": {
   "display_name": "Python 3 (ipykernel)",
   "language": "python",
   "name": "python3"
  },
  "language_info": {
   "codemirror_mode": {
    "name": "ipython",
    "version": 3
   },
   "file_extension": ".py",
   "mimetype": "text/x-python",
   "name": "python",
   "nbconvert_exporter": "python",
   "pygments_lexer": "ipython3",
   "version": "3.9.7"
  }
 },
 "nbformat": 4,
 "nbformat_minor": 5
}
