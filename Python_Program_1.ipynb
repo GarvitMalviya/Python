{
 "cells": [
  {
   "cell_type": "markdown",
   "id": "583af578",
   "metadata": {},
   "source": [
    "### Print Hello Python"
   ]
  },
  {
   "cell_type": "code",
   "execution_count": 1,
   "id": "26a489ef",
   "metadata": {},
   "outputs": [
    {
     "name": "stdout",
     "output_type": "stream",
     "text": [
      "Hello Python\n"
     ]
    }
   ],
   "source": [
    "print(\"Hello Python\")"
   ]
  },
  {
   "cell_type": "markdown",
   "id": "8df6099a",
   "metadata": {},
   "source": [
    "### Python program to do arithmetical operations addition and division."
   ]
  },
  {
   "cell_type": "code",
   "execution_count": 2,
   "id": "c14cefd0",
   "metadata": {},
   "outputs": [
    {
     "name": "stdout",
     "output_type": "stream",
     "text": [
      "Enter 1st Number : 23\n",
      "Enter 2nd Number : 23\n",
      "Addition of a and b are : 46.0\n",
      "Division of a and b are : 1.0\n"
     ]
    }
   ],
   "source": [
    "a =float(input(\"Enter 1st Number : \"))\n",
    "b = float(input(\"Enter 2nd Number : \"))\n",
    "c = a+b\n",
    "print(\"Addition of a and b are :\", c)\n",
    "d= a/b\n",
    "print(\"Division of a and b are :\", d)"
   ]
  },
  {
   "cell_type": "markdown",
   "id": "e24af338",
   "metadata": {},
   "source": [
    "### Python program to find the area of a triangle"
   ]
  },
  {
   "cell_type": "code",
   "execution_count": 3,
   "id": "f2c0700f",
   "metadata": {},
   "outputs": [
    {
     "name": "stdout",
     "output_type": "stream",
     "text": [
      "Enter the base of triangle : 24\n",
      "Enter the height of triangle :24\n",
      "Area of Triangle is : 288.0\n"
     ]
    }
   ],
   "source": [
    "base = float(input(\"Enter the base of triangle : \"))\n",
    "height = float(input(\"Enter the height of triangle :\"))\n",
    "Area = 1/2* base * height\n",
    "print(\"Area of Triangle is :\", Area)"
   ]
  },
  {
   "cell_type": "markdown",
   "id": "e1d402c9",
   "metadata": {},
   "source": [
    "### Python program to swap two variables"
   ]
  },
  {
   "cell_type": "code",
   "execution_count": 4,
   "id": "f9599a45",
   "metadata": {},
   "outputs": [
    {
     "name": "stdout",
     "output_type": "stream",
     "text": [
      "Enter the value of a :10\n",
      "Enter the value of b : 20\n",
      "Value of a after swapping :  20\n",
      "Value of b after swapping : 10\n"
     ]
    }
   ],
   "source": [
    "a = int(input(\"Enter the value of a :\"))\n",
    "b = int(input(\"Enter the value of b : \"))\n",
    "x = a \n",
    "a = b\n",
    "b = x\n",
    "print(\"Value of a after swapping : \", a)\n",
    "print(\"Value of b after swapping :\", b)"
   ]
  },
  {
   "cell_type": "markdown",
   "id": "2c6bb7bd",
   "metadata": {},
   "source": [
    "### Python program to generate a random number"
   ]
  },
  {
   "cell_type": "code",
   "execution_count": 8,
   "id": "10124387",
   "metadata": {},
   "outputs": [
    {
     "name": "stdout",
     "output_type": "stream",
     "text": [
      "0.5153180392131745\n"
     ]
    }
   ],
   "source": [
    "import random\n",
    "a = random.random()\n",
    "print(a)"
   ]
  },
  {
   "cell_type": "code",
   "execution_count": null,
   "id": "6608b4ea",
   "metadata": {},
   "outputs": [],
   "source": []
  }
 ],
 "metadata": {
  "kernelspec": {
   "display_name": "Python 3 (ipykernel)",
   "language": "python",
   "name": "python3"
  },
  "language_info": {
   "codemirror_mode": {
    "name": "ipython",
    "version": 3
   },
   "file_extension": ".py",
   "mimetype": "text/x-python",
   "name": "python",
   "nbconvert_exporter": "python",
   "pygments_lexer": "ipython3",
   "version": "3.9.7"
  }
 },
 "nbformat": 4,
 "nbformat_minor": 5
}
