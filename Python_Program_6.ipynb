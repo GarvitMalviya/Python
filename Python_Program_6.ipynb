{
 "cells": [
  {
   "cell_type": "markdown",
   "id": "9eab4645",
   "metadata": {},
   "source": [
    "### 1. Write a program to display fibonacci Sequence Using Recursion"
   ]
  },
  {
   "cell_type": "code",
   "execution_count": 3,
   "id": "33d114a1",
   "metadata": {},
   "outputs": [
    {
     "name": "stdout",
     "output_type": "stream",
     "text": [
      "Enter a Number: 5\n",
      "Sequence are as follows:\n",
      "0\n",
      "1\n",
      "1\n",
      "2\n",
      "3\n"
     ]
    }
   ],
   "source": [
    "def fib_re(a):\n",
    "    if a <=1:\n",
    "        return a\n",
    "    else:\n",
    "        return(fib_re(a-1) + fib_re(a-2))\n",
    "b = int(input(\"Enter a Number: \"))\n",
    "if b <=0:\n",
    "    print(\"Negetive Number\")\n",
    "else:\n",
    "    print(\"Sequence are as follows:\")\n",
    "    for i in range(b):\n",
    "        print(fib_re(i))"
   ]
  },
  {
   "cell_type": "markdown",
   "id": "076e1d51",
   "metadata": {},
   "source": [
    "### 2. Write a program to find Factorial of number using Recursion"
   ]
  },
  {
   "cell_type": "code",
   "execution_count": 8,
   "id": "2ff51dab",
   "metadata": {},
   "outputs": [
    {
     "name": "stdout",
     "output_type": "stream",
     "text": [
      "Enter a number: 24\n",
      "The numbers are:  620448401733239439360000\n"
     ]
    }
   ],
   "source": [
    "def r_fact(a):\n",
    "    if a==1:\n",
    "        return a\n",
    "    else:\n",
    "        return  a*r_fact(a-1)\n",
    "b = int(input(\"Enter a number: \"))\n",
    "print(\"The numbers are: \",r_fact(b))"
   ]
  },
  {
   "cell_type": "markdown",
   "id": "0f726428",
   "metadata": {},
   "source": [
    "### 3. Write a  program to calculate your Body Mass Index"
   ]
  },
  {
   "cell_type": "code",
   "execution_count": 2,
   "id": "23188401",
   "metadata": {},
   "outputs": [
    {
     "name": "stdout",
     "output_type": "stream",
     "text": [
      "Enter the weigth in Kg: 50.46\n",
      "Enter the heigth in meter: 5.4\n",
      "The Body mass index is:  1.7304526748971192\n"
     ]
    }
   ],
   "source": [
    "a = float(input(\"Enter the weigth in Kg: \"))\n",
    "b = float(input(\"Enter the heigth in meter: \"))\n",
    "bmi = a/(b * b)\n",
    "print(\"The Body mass index is: \", bmi)"
   ]
  },
  {
   "cell_type": "markdown",
   "id": "fdea2767",
   "metadata": {},
   "source": [
    "### 4. Write a program to calculate the natural logarithm of any number"
   ]
  },
  {
   "cell_type": "code",
   "execution_count": 3,
   "id": "88d0408f",
   "metadata": {},
   "outputs": [
    {
     "name": "stdout",
     "output_type": "stream",
     "text": [
      "Enter a Number: 2\n",
      "log of  2 is 0.6931471805599453\n"
     ]
    }
   ],
   "source": [
    "import math\n",
    "a = int(input(\"Enter a Number: \"))\n",
    "b = math.log(a)\n",
    "print(\"log of \", a ,\"is\", b)"
   ]
  },
  {
   "cell_type": "code",
   "execution_count": null,
   "id": "ff8463c7",
   "metadata": {},
   "outputs": [],
   "source": [
    "def cube(a):\n",
    "    b=0\n",
    "    for i in range(1, a+1):\n",
    "        b +=i*i*i\n",
    "    return b\n",
    "a = int(input(\"Enter a number\"))\n",
    "print(cube(a))"
   ]
  },
  {
   "cell_type": "code",
   "execution_count": 15,
   "id": "70bdd1b5",
   "metadata": {},
   "outputs": [
    {
     "name": "stdout",
     "output_type": "stream",
     "text": [
      "Enter a number: 3\n",
      "36\n"
     ]
    }
   ],
   "source": [
    "# Returns the sum of series \n",
    "def sumOfSeries(n):\n",
    "    sum = 0\n",
    "    for i in range(1, n+1):\n",
    "        sum +=i*i*i\n",
    "          \n",
    "    return sum\n",
    "  \n",
    "   \n",
    "# Driver Function\n",
    "n = int(input(\"Enter a number: \"))\n",
    "print(sumOfSeries(n))"
   ]
  },
  {
   "cell_type": "code",
   "execution_count": null,
   "id": "8a14206b",
   "metadata": {},
   "outputs": [],
   "source": []
  }
 ],
 "metadata": {
  "kernelspec": {
   "display_name": "Python 3 (ipykernel)",
   "language": "python",
   "name": "python3"
  },
  "language_info": {
   "codemirror_mode": {
    "name": "ipython",
    "version": 3
   },
   "file_extension": ".py",
   "mimetype": "text/x-python",
   "name": "python",
   "nbconvert_exporter": "python",
   "pygments_lexer": "ipython3",
   "version": "3.9.7"
  }
 },
 "nbformat": 4,
 "nbformat_minor": 5
}
