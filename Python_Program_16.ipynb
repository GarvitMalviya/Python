{
 "cells": [
  {
   "cell_type": "markdown",
   "id": "2e283139",
   "metadata": {},
   "source": [
    "### 1. Write a function that stutters a word as if someone is struggling to read it. The first two letters are repeated twice with an ellipsis ... and space after each, and then the word is pronounced with a question mark ?."
   ]
  },
  {
   "cell_type": "code",
   "execution_count": 1,
   "id": "95eae788",
   "metadata": {},
   "outputs": [
    {
     "name": "stdout",
     "output_type": "stream",
     "text": [
      "in...in...incredible?\n",
      "en...en...enthusiastic?\n",
      "ou...ou...outstanding?\n"
     ]
    }
   ],
   "source": [
    "def shutter(word):\n",
    "    s = word[:2]\n",
    "    return (2 * (s+'...')+word+'?')\n",
    "print(shutter('incredible'))\n",
    "print(shutter('enthusiastic'))\n",
    "print(shutter('outstanding'))"
   ]
  },
  {
   "cell_type": "markdown",
   "id": "d53f6ab7",
   "metadata": {},
   "source": [
    "### 2.Create a function that takes an angle in radians and returns the corresponding angle in degrees rounded to one decimal place."
   ]
  },
  {
   "cell_type": "code",
   "execution_count": 5,
   "id": "07a43405",
   "metadata": {},
   "outputs": [
    {
     "name": "stdout",
     "output_type": "stream",
     "text": [
      "Radian to degree 1 57.306590257879655\n",
      "Radian to degree 20 1146.1318051575931\n",
      "Radian to degree 50 2865.3295128939826\n"
     ]
    }
   ],
   "source": [
    "def con(radian):\n",
    "    pi = 3.141\n",
    "    degree = radian*(180/pi)\n",
    "    return degree\n",
    "radian = 1\n",
    "radian1 = 20\n",
    "radian2 = 50\n",
    "print(\"Radian to degree\",radian,(con(radian)))\n",
    "print(\"Radian to degree\",radian1,(con(radian1)))\n",
    "print(\"Radian to degree\",radian2,(con(radian2)))"
   ]
  },
  {
   "cell_type": "markdown",
   "id": "adcde411",
   "metadata": {},
   "source": [
    "### 3. In this challenge, establish if a given integer num is a Curzon number. If 1 plus 2 elevated to num is exactly divisible by 1 plus 2 multiplied by num, then num is a Curzon number. Given a non-negative integer num, implement a function that returns True if num is a Curzon number, or False otherwise."
   ]
  },
  {
   "cell_type": "code",
   "execution_count": 6,
   "id": "799b26ac",
   "metadata": {},
   "outputs": [
    {
     "name": "stderr",
     "output_type": "stream",
     "text": [
      "E\n",
      "======================================================================\n",
      "ERROR: C:\\Users\\Garvit Malviya\\AppData\\Roaming\\jupyter\\runtime\\kernel-7bba3c81-6d26-4377-b3dd-e23f6e76ad92 (unittest.loader._FailedTest)\n",
      "----------------------------------------------------------------------\n",
      "AttributeError: module '__main__' has no attribute 'C:\\Users\\Garvit Malviya\\AppData\\Roaming\\jupyter\\runtime\\kernel-7bba3c81-6d26-4377-b3dd-e23f6e76ad92'\n",
      "\n",
      "----------------------------------------------------------------------\n",
      "Ran 1 test in 0.002s\n",
      "\n",
      "FAILED (errors=1)\n"
     ]
    },
    {
     "ename": "SystemExit",
     "evalue": "True",
     "output_type": "error",
     "traceback": [
      "An exception has occurred, use %tb to see the full traceback.\n",
      "\u001b[1;31mSystemExit\u001b[0m\u001b[1;31m:\u001b[0m True\n"
     ]
    },
    {
     "name": "stderr",
     "output_type": "stream",
     "text": [
      "C:\\anaconda\\lib\\site-packages\\IPython\\core\\interactiveshell.py:3452: UserWarning: To exit: use 'exit', 'quit', or Ctrl-D.\n",
      "  warn(\"To exit: use 'exit', 'quit', or Ctrl-D.\", stacklevel=1)\n"
     ]
    }
   ],
   "source": [
    "import unittest\n",
    "def is_curzon(num: int) ->bool:\n",
    "    return False\n",
    "class Test(unittest.TestCase):\n",
    "    def test_1(self):\n",
    "        self.assertTrue(is_curzon(5))\n",
    "    \n",
    "    def test_2(self):\n",
    "        self.assertFalse(is_curzon(10))\n",
    "    \n",
    "    def test_3(self):\n",
    "        self.assertTrue(is_curzon(14))\n",
    "    def test_4(self):\n",
    "        self.assertTrue(is_curzon(86))\n",
    "\n",
    "    def test_5(self):\n",
    "        self.assertTrue(is_curzon(90))\n",
    "\n",
    "    def test_6(self):\n",
    "        self.assertFalse(is_curzon(115))\n",
    "\n",
    "    def test_7(self):\n",
    "        self.assertFalse(is_curzon(120))\n",
    "\n",
    "    def test_8(self):\n",
    "        self.assertTrue(is_curzon(194))\n",
    "\n",
    "    def test_9(self):\n",
    "        self.assertTrue(is_curzon(293))\n",
    "\n",
    "\n",
    "if __name__ == \"__main__\":\n",
    "    unittest.main()\n",
    "    \n",
    "    "
   ]
  },
  {
   "cell_type": "markdown",
   "id": "3ace259b",
   "metadata": {},
   "source": [
    "### 4. Write a program to find the area of hexagon"
   ]
  },
  {
   "cell_type": "code",
   "execution_count": 9,
   "id": "ccbe2d1d",
   "metadata": {},
   "outputs": [
    {
     "name": "stdout",
     "output_type": "stream",
     "text": [
      "Area of  8 : 166.27687752661222\n"
     ]
    }
   ],
   "source": [
    "import math\n",
    "\n",
    "def Area(a):\n",
    "    return  ((3 * math.sqrt(3) * (a * a)) / 2)\n",
    "\n",
    "if __name__==\"__main__\":\n",
    "    a = 8\n",
    "    print(\"Area of \",a,\":\",format(Area(a)))"
   ]
  },
  {
   "cell_type": "markdown",
   "id": "dbdf867c",
   "metadata": {},
   "source": [
    "### 5. Create a function that returns a base-2 (binary) representation of a base-10 (decimal) string number. To convert is simple: ((2) means base-2 and (10) means base-10) 010101001(2) = 1 + 8 + 32 + 128.Going from right to left, the value of the most right bit is 1, now from that every bit to the leftwill be x2 the value, value of an 8 bit binary numbers are (256, 128, 64, 32, 16, 8, 4, 2, 1)."
   ]
  },
  {
   "cell_type": "code",
   "execution_count": null,
   "id": "ad6e1b44",
   "metadata": {},
   "outputs": [],
   "source": []
  }
 ],
 "metadata": {
  "kernelspec": {
   "display_name": "Python 3 (ipykernel)",
   "language": "python",
   "name": "python3"
  },
  "language_info": {
   "codemirror_mode": {
    "name": "ipython",
    "version": 3
   },
   "file_extension": ".py",
   "mimetype": "text/x-python",
   "name": "python",
   "nbconvert_exporter": "python",
   "pygments_lexer": "ipython3",
   "version": "3.9.7"
  }
 },
 "nbformat": 4,
 "nbformat_minor": 5
}
