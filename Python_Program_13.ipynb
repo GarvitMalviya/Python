{
 "cells": [
  {
   "cell_type": "markdown",
   "id": "e2ca31d9",
   "metadata": {},
   "source": [
    "### 1. Write a program that calculate and print the value according to the given formula:\n",
    "    (Q = Square root of [(2 * C * D)/H])"
   ]
  },
  {
   "cell_type": "code",
   "execution_count": 5,
   "id": "76ff1b78",
   "metadata": {},
   "outputs": [
    {
     "name": "stdout",
     "output_type": "stream",
     "text": [
      "Enter value of D: 1234\n",
      "[203]\n"
     ]
    }
   ],
   "source": [
    "import math\n",
    "num = input('Enter value of D: ')\n",
    "num = num.split(',')\n",
    "C = 50\n",
    "H = 30\n",
    "result=[]\n",
    "for d in numbers:\n",
    "    Q = round(math.sqrt(2 * C * int(D)/ H))\n",
    "    result.append(Q)\n",
    "print(result)\n"
   ]
  },
  {
   "cell_type": "markdown",
   "id": "e91d78a8",
   "metadata": {},
   "source": [
    "### 2. Write a program which takes 2 digits, X,Y as input and generates a 2-dimensional array. The element value in the i-th row and j-th column of the array should be i*j.\n",
    "        Note: i=0,1.., X-1; j=0,1,¡Y-1."
   ]
  },
  {
   "cell_type": "code",
   "execution_count": 7,
   "id": "507aa263",
   "metadata": {},
   "outputs": [
    {
     "name": "stdout",
     "output_type": "stream",
     "text": [
      "Enter a value of x: 3\n",
      "Enter a value of y: 3\n",
      "[[0, 0, 0], [0, 1, 2], [0, 2, 4]]\n"
     ]
    }
   ],
   "source": [
    "x = int(input('Enter a value of x: '))\n",
    "y = int(input('Enter a value of y: '))\n",
    "matrix = [[0 for col in range(y)] for row in range(x)]\n",
    "for row in range(x):\n",
    "    for col in range(y):\n",
    "        matrix[row][col]=row*col\n",
    "print(matrix)"
   ]
  },
  {
   "cell_type": "markdown",
   "id": "3d502a15",
   "metadata": {},
   "source": [
    "### 3.Write a program that accepts a comma separated sequence of words as input and prints the words in a comma-separated sequence after sorting them alphabetically."
   ]
  },
  {
   "cell_type": "code",
   "execution_count": 1,
   "id": "55f513fa",
   "metadata": {},
   "outputs": [
    {
     "name": "stdout",
     "output_type": "stream",
     "text": [
      "Enter the Cricketers with comma: MsDhoni,YuvrajSingh,ViratKohli\n",
      "MsDhoni,ViratKohli,YuvrajSingh\n"
     ]
    }
   ],
   "source": [
    "a = input('Enter the Cricketers with comma: ')\n",
    "word=[word for word in a.split(',')]\n",
    "print(','.join(sorted(list(set(word)))))"
   ]
  },
  {
   "cell_type": "markdown",
   "id": "aedb5d65",
   "metadata": {},
   "source": [
    "### 4.Write a program that accepts a sequence of whitespace separated words as input and prints the words after removing all duplicate words and sorting them alphanumerically."
   ]
  },
  {
   "cell_type": "code",
   "execution_count": 3,
   "id": "0ee11dd1",
   "metadata": {},
   "outputs": [
    {
     "name": "stdout",
     "output_type": "stream",
     "text": [
      "Enter the words: hello world and the world is yours\n",
      "and hello is the world yours\n"
     ]
    }
   ],
   "source": [
    "a = input('Enter the words: ')\n",
    "a_split= a.split(' ')\n",
    "w_list=[]\n",
    "for i in a_split:\n",
    "    if i not in w_list:\n",
    "        w_list.append(i)\n",
    "    else:\n",
    "        continue\n",
    "w_list.sort()\n",
    "print((' ').join(w_list))"
   ]
  },
  {
   "cell_type": "markdown",
   "id": "e8add82c",
   "metadata": {},
   "source": [
    "### 5. Write a program that accepts a sentence and calculate the number of letters and digits."
   ]
  },
  {
   "cell_type": "code",
   "execution_count": 6,
   "id": "78633674",
   "metadata": {},
   "outputs": [
    {
     "name": "stdout",
     "output_type": "stream",
     "text": [
      "Enter a string:  welocme to python 1232234\n",
      "Letters are as follows:  15\n",
      "Digits are as follow:  7\n"
     ]
    }
   ],
   "source": [
    "a = input('Enter a string:  ')\n",
    "d=0\n",
    "b=0\n",
    "for c in a:\n",
    "    if c.isdigit():\n",
    "        d=d+1\n",
    "    elif c.isalpha():\n",
    "        b=b+1\n",
    "    else:\n",
    "        pass\n",
    "print(\"Letters are as follows: \", b)\n",
    "print(\"Digits are as follow: \", d)"
   ]
  },
  {
   "cell_type": "markdown",
   "id": "51323c03",
   "metadata": {},
   "source": [
    "### 5. A website requires the users to input username and password to register. Write a program to check the validity of password input by users.\n",
    "Following are the criteria for checking the password:\n",
    "1. At least 1 letter between [a-z]\n",
    "2. At least 1 number between [0-9]\n",
    "1. At least 1 letter between [A-Z]\n",
    "3. At least 1 character from [$#@]\n",
    "4. Minimum length of transaction password: 6\n",
    "5. Maximum length of transaction password: 12\n"
   ]
  },
  {
   "cell_type": "code",
   "execution_count": 4,
   "id": "269b4e94",
   "metadata": {},
   "outputs": [],
   "source": [
    "import re"
   ]
  },
  {
   "cell_type": "code",
   "execution_count": null,
   "id": "70dbcc65",
   "metadata": {},
   "outputs": [],
   "source": [
    "passw = input(\"Input your password \")\n",
    "x = True\n",
    "while x:\n",
    "    if (len(passw)<6 or len(passw)>12):\n",
    "        break\n",
    "    elif not re.search(\"[a-z]\",passw):\n",
    "        break\n",
    "    elif not re.search(\"[0-9]\",passw):\n",
    "        break\n",
    "    elif not re.search(\"[A-Z]\",passw):\n",
    "        break\n",
    "    elif not re.search(\"[$#@]\",passw):\n",
    "        break\n",
    "    elif re.search(\"\\s\",passw):\n",
    "        break\n",
    "    else:\n",
    "        print(\"Valid Password\")\n",
    "        x = False\n",
    "        break\n",
    "if x:\n",
    "    print(\"Not a Valid Password\")\n",
    "        "
   ]
  },
  {
   "cell_type": "code",
   "execution_count": null,
   "id": "03de4121",
   "metadata": {},
   "outputs": [],
   "source": []
  },
  {
   "cell_type": "code",
   "execution_count": null,
   "id": "d2564ea4",
   "metadata": {},
   "outputs": [],
   "source": []
  },
  {
   "cell_type": "code",
   "execution_count": null,
   "id": "0c134d21",
   "metadata": {},
   "outputs": [],
   "source": []
  },
  {
   "cell_type": "code",
   "execution_count": null,
   "id": "e6aac703",
   "metadata": {},
   "outputs": [],
   "source": []
  }
 ],
 "metadata": {
  "kernelspec": {
   "display_name": "Python 3 (ipykernel)",
   "language": "python",
   "name": "python3"
  },
  "language_info": {
   "codemirror_mode": {
    "name": "ipython",
    "version": 3
   },
   "file_extension": ".py",
   "mimetype": "text/x-python",
   "name": "python",
   "nbconvert_exporter": "python",
   "pygments_lexer": "ipython3",
   "version": "3.9.7"
  }
 },
 "nbformat": 4,
 "nbformat_minor": 5
}
