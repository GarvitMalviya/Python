{
 "cells": [
  {
   "cell_type": "markdown",
   "id": "5b0e0104",
   "metadata": {},
   "source": [
    "### 1. Write a program to find sum of all elements"
   ]
  },
  {
   "cell_type": "code",
   "execution_count": 1,
   "id": "ae68413e",
   "metadata": {},
   "outputs": [
    {
     "name": "stdout",
     "output_type": "stream",
     "text": [
      "[10, 20.23, 23, 21]\n",
      "sum of list 74.23\n"
     ]
    }
   ],
   "source": [
    "def sumlist(list):\n",
    "    sum = 0\n",
    "    for i in range(len(list)):\n",
    "        sum = sum + list[i]\n",
    "    return sum\n",
    "list=[10,20.23,23,21]\n",
    "print(list)\n",
    "print('sum of list', sumlist(list))"
   ]
  },
  {
   "cell_type": "markdown",
   "id": "cdf64635",
   "metadata": {},
   "source": [
    "### 2. Write a program to find multiply of all element."
   ]
  },
  {
   "cell_type": "code",
   "execution_count": 3,
   "id": "4c2f12ef",
   "metadata": {},
   "outputs": [
    {
     "name": "stdout",
     "output_type": "stream",
     "text": [
      "[12, 12, 11]\n",
      "Product: \n",
      "1584\n"
     ]
    }
   ],
   "source": [
    "def mul_list(list):\n",
    "    product =1 \n",
    "    for i in list:\n",
    "        product = product * i\n",
    "    return product\n",
    "list=[12,12,11]\n",
    "print(list)\n",
    "print('Product: ')\n",
    "print(mul_list(list))"
   ]
  },
  {
   "cell_type": "markdown",
   "id": "9f5e2fa3",
   "metadata": {},
   "source": [
    "### 3. Write a program to find smallest of element."
   ]
  },
  {
   "cell_type": "code",
   "execution_count": 5,
   "id": "2bf735d7",
   "metadata": {},
   "outputs": [
    {
     "name": "stdout",
     "output_type": "stream",
     "text": [
      "Smallest is  [12, 32, 12, 32, 34, 22, 34, 12, 2]\n",
      "2\n"
     ]
    }
   ],
   "source": [
    "def smallest(list):\n",
    "    small=list[0]\n",
    "    for i in list:\n",
    "        if i<small:\n",
    "            small=i\n",
    "    return small\n",
    "list=[12,32,12,32,34,22,34,12,2]\n",
    "print(\"Smallest is \", list)\n",
    "print(smallest(list))"
   ]
  },
  {
   "cell_type": "markdown",
   "id": "b68352b3",
   "metadata": {},
   "source": [
    "### 4. Write a program to find largest element in the list"
   ]
  },
  {
   "cell_type": "code",
   "execution_count": 3,
   "id": "7e3e404a",
   "metadata": {},
   "outputs": [
    {
     "name": "stdout",
     "output_type": "stream",
     "text": [
      "Enter a element in list: 5\n",
      "Enter elements: 1\n",
      "Enter elements: 2\n",
      "Enter elements: 3\n",
      "Enter elements: 2\n",
      "Enter elements: 1\n",
      "Largest element:  3\n"
     ]
    }
   ],
   "source": [
    "l1 = []\n",
    "num=int(input('Enter a element in list: '))\n",
    "for i in range(1, num+1):\n",
    "    ele=int(input('Enter elements: '))\n",
    "    l1.append(ele)\n",
    "print('Largest element: ', max(l1))\n"
   ]
  },
  {
   "cell_type": "markdown",
   "id": "4ee82721",
   "metadata": {},
   "source": [
    "### 5. Write a program to find second largest element in a list"
   ]
  },
  {
   "cell_type": "code",
   "execution_count": 4,
   "id": "94506bb9",
   "metadata": {},
   "outputs": [
    {
     "name": "stdout",
     "output_type": "stream",
     "text": [
      "Enter a element: 4\n",
      "Enter elements: 12\n",
      "Enter elements: 21\n",
      "Enter elements: 32\n",
      "Enter elements: 11\n",
      "Second largest element:  21\n"
     ]
    }
   ],
   "source": [
    "l1 =[]\n",
    "num = int(input('Enter a element: '))\n",
    "for i in range(1, num+1):\n",
    "    ele= int(input('Enter elements: '))\n",
    "    l1.append(ele)\n",
    "l1.sort()\n",
    "print('Second largest element: ', l1[-2])"
   ]
  },
  {
   "cell_type": "markdown",
   "id": "1cf363ef",
   "metadata": {},
   "source": [
    "### 6. Write a program to find N largest element from the list"
   ]
  },
  {
   "cell_type": "code",
   "execution_count": 7,
   "id": "0efd1376",
   "metadata": {},
   "outputs": [
    {
     "name": "stdout",
     "output_type": "stream",
     "text": [
      "Largest Number are:  [345, 76, 45, 44]\n"
     ]
    }
   ],
   "source": [
    "def numele(l1, N):\n",
    "    new_l=[]\n",
    "    for i in range(0, N):\n",
    "        max1=0\n",
    "        for j in range(len(l1)):\n",
    "            if l1[j]>max1:\n",
    "                max1=l1[j]\n",
    "        l1.remove(max1)\n",
    "        new_l.append(max1)\n",
    "    print('Largest Number are: ', new_l)\n",
    "list=[12,32,12,45,345,76,44]\n",
    "N = 4\n",
    "numele(list, N)"
   ]
  },
  {
   "cell_type": "markdown",
   "id": "5502c07c",
   "metadata": {},
   "source": [
    "### 7. Write a program to print even numbers in the list"
   ]
  },
  {
   "cell_type": "code",
   "execution_count": 16,
   "id": "9735fded",
   "metadata": {},
   "outputs": [
    {
     "name": "stdout",
     "output_type": "stream",
     "text": [
      "Enter size of list 3\n",
      "Enter element of list 1\n",
      "Enter element of list 2\n",
      "Enter element of list 4\n",
      "Even numbers in  [1, 2, 4] are\n",
      "[2, 4]\n"
     ]
    }
   ],
   "source": [
    "def even(list):\n",
    "    new_list=[]\n",
    "    for i in list:\n",
    "        if i%2==0:               \n",
    "            new_list.append(i)\n",
    "    return new_list\n",
    "li=[]\n",
    "n=int(input(\"Enter size of list \"))\n",
    "for i in range(0,n):\n",
    "    e=int(input(\"Enter element of list \"))\n",
    "    li.append(e)\n",
    "\n",
    "print(\"Even numbers in \",li, 'are')\n",
    "print(even(li))"
   ]
  },
  {
   "cell_type": "markdown",
   "id": "b1b5e1fa",
   "metadata": {},
   "source": [
    "### 8. Write a program to print odd numbers in list"
   ]
  },
  {
   "cell_type": "code",
   "execution_count": 17,
   "id": "df91968f",
   "metadata": {},
   "outputs": [
    {
     "name": "stdout",
     "output_type": "stream",
     "text": [
      "Enter size of list 5\n",
      "Enter element of list 1\n",
      "Enter element of list 2\n",
      "Enter element of list 3\n",
      "Enter element of list 4\n",
      "Enter element of list 5\n",
      "odd numbers in  [1, 2, 3, 4, 5] are\n",
      "[1, 3, 5]\n"
     ]
    }
   ],
   "source": [
    "def odd(list):\n",
    "    new_list=[]\n",
    "    for i in list:\n",
    "        if i%2!=0:               \n",
    "            new_list.append(i)\n",
    "    return new_list\n",
    "li=[]\n",
    "n=int(input(\"Enter size of list \"))\n",
    "for i in range(0,n):\n",
    "    e=int(input(\"Enter element of list \"))\n",
    "    li.append(e)\n",
    "\n",
    "print(\"odd numbers in \",li, 'are')\n",
    "print(odd(li))"
   ]
  },
  {
   "cell_type": "markdown",
   "id": "8964ad66",
   "metadata": {},
   "source": [
    "### 9. Write a program to remove empty list"
   ]
  },
  {
   "cell_type": "code",
   "execution_count": 18,
   "id": "5fe6d255",
   "metadata": {},
   "outputs": [
    {
     "name": "stdout",
     "output_type": "stream",
     "text": [
      "The list is :  [5, 6, [], 7, 6, [], 2]\n",
      "list after removel [5, 6, 7, 6, 2]\n"
     ]
    }
   ],
   "source": [
    "def remove(input_list):\n",
    "    new_list=[]\n",
    "    for ele in input_list:\n",
    "        if ele:\n",
    "            new_list.append(ele)\n",
    "    return new_list\n",
    "input_list=[5,6,[],7,6,[],2]\n",
    "print('The list is : ', input_list)\n",
    "print('list after removel', remove(input_list))"
   ]
  },
  {
   "cell_type": "markdown",
   "id": "ac491d79",
   "metadata": {},
   "source": [
    "### 10. Write a program to copying or cloning the list"
   ]
  },
  {
   "cell_type": "code",
   "execution_count": 19,
   "id": "437ba5bb",
   "metadata": {},
   "outputs": [
    {
     "name": "stdout",
     "output_type": "stream",
     "text": [
      "Enter a list: 4\n",
      "Enter the element: 23\n",
      "Enter the element: 21\n",
      "Enter the element: 33\n",
      "Enter the element: 21\n",
      "Orginal list:  [23, 21, 33, 21]\n",
      "After cloning [23, 21, 33, 21]\n"
     ]
    }
   ],
   "source": [
    "li=[]\n",
    "n = int(input('Enter a list: '))\n",
    "for i in range(0,n):\n",
    "    e = int(input('Enter the element: '))\n",
    "    li.append(e)\n",
    "print('Orginal list: ', li)\n",
    "\n",
    "lit_copy=[]\n",
    "lit_copy.extend(li)\n",
    "print('After cloning', lit_copy)"
   ]
  },
  {
   "cell_type": "markdown",
   "id": "850c00a7",
   "metadata": {},
   "source": [
    "### 11. write a program to print count of occurnce in the list."
   ]
  },
  {
   "cell_type": "code",
   "execution_count": 28,
   "id": "a183bb90",
   "metadata": {},
   "outputs": [
    {
     "name": "stdout",
     "output_type": "stream",
     "text": [
      "9 has occurred 4 times\n"
     ]
    }
   ],
   "source": [
    "def countX(lst, x):\n",
    "    count = 0\n",
    "    for ele in lst:\n",
    "        if (ele == x):\n",
    "            count = count + 1\n",
    "    return count\n",
    " \n",
    "lst = [9,8,6,5,9,9,7,6,2,3,0,9]\n",
    "x = 9\n",
    "print('{} has occurred {} times'.format(x, countX(lst, x)))"
   ]
  },
  {
   "cell_type": "code",
   "execution_count": null,
   "id": "567d3eee",
   "metadata": {},
   "outputs": [],
   "source": []
  }
 ],
 "metadata": {
  "kernelspec": {
   "display_name": "Python 3 (ipykernel)",
   "language": "python",
   "name": "python3"
  },
  "language_info": {
   "codemirror_mode": {
    "name": "ipython",
    "version": 3
   },
   "file_extension": ".py",
   "mimetype": "text/x-python",
   "name": "python",
   "nbconvert_exporter": "python",
   "pygments_lexer": "ipython3",
   "version": "3.9.7"
  }
 },
 "nbformat": 4,
 "nbformat_minor": 5
}
