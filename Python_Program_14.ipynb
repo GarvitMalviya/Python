{
 "cells": [
  {
   "cell_type": "markdown",
   "id": "11c2bf3b",
   "metadata": {},
   "source": [
    "### 1.Define a class with a generator which can iterate the numbers, which are divisible by 7, between a given range 0 and n."
   ]
  },
  {
   "cell_type": "code",
   "execution_count": 5,
   "id": "cd9e62d0",
   "metadata": {},
   "outputs": [
    {
     "name": "stdout",
     "output_type": "stream",
     "text": [
      "Enter a Number: 12\n",
      "[0, 7]\n",
      "0 True\n",
      "1 False\n",
      "2 False\n",
      "3 False\n",
      "4 False\n",
      "5 False\n",
      "6 False\n",
      "7 True\n",
      "8 False\n",
      "9 False\n",
      "10 False\n",
      "11 False\n"
     ]
    }
   ],
   "source": [
    "n = int(input('Enter a Number: '))\n",
    "divisble = [i for i in range(0, n) if (i % 7 == 0)]\n",
    "print(divisble)\n",
    "\n",
    "def divisble(n):\n",
    "    for i in range(n):\n",
    "        if i % 7 == 0:\n",
    "            value = True\n",
    "        else:\n",
    "            value = False\n",
    "        print(i, value)\n",
    "\n",
    "divisble(n)"
   ]
  },
  {
   "cell_type": "code",
   "execution_count": 8,
   "id": "5885de1e",
   "metadata": {},
   "outputs": [
    {
     "name": "stdout",
     "output_type": "stream",
     "text": [
      "Type in: hey hello guys\n",
      "[('guys', 1), ('hello', 1), ('hey', 1)]\n",
      "guys 1\n",
      "hello 1\n",
      "hey 1\n"
     ]
    }
   ],
   "source": [
    "import operator\n",
    "\n",
    "text_line = input(\"Type in: \")\n",
    "\n",
    "freq_dict = {}\n",
    "\n",
    "for i in text_line.split(' '):\n",
    "    if i.isalpha():\n",
    "        if i not in freq_dict:\n",
    "            freq_dict[i] = 1\n",
    "        elif i in freq_dict:\n",
    "            freq_dict[i] = freq_dict[i] + 1\n",
    "    else:\n",
    "        pass\n",
    "\n",
    "sorted_freq_dict = sorted(freq_dict.items(), key = operator.itemgetter(0))\n",
    "print(sorted_freq_dict)\n",
    "\n",
    "for i in sorted_freq_dict:\n",
    "    print(i[0], i[1])"
   ]
  },
  {
   "cell_type": "markdown",
   "id": "89e38cf4",
   "metadata": {},
   "source": [
    "### 2.Write a program to compute the frequency of the words from the input. The output should output after sorting the key alphanumerically."
   ]
  },
  {
   "cell_type": "code",
   "execution_count": 16,
   "id": "34c96b54",
   "metadata": {},
   "outputs": [],
   "source": [
    "import operator"
   ]
  },
  {
   "cell_type": "code",
   "execution_count": 17,
   "id": "13ba7252",
   "metadata": {},
   "outputs": [
    {
     "name": "stdout",
     "output_type": "stream",
     "text": [
      "Enter the text:hey hell and choosing\n",
      "[('and', 1), ('choosing', 1), ('hell', 1), ('hey', 1)]\n",
      "and 1\n",
      "choosing 1\n",
      "hell 1\n",
      "hey 1\n"
     ]
    }
   ],
   "source": [
    "lin = input('Enter the text:')\n",
    "\n",
    "freq ={}\n",
    "\n",
    "for i in lin.split(' '):\n",
    "    if i.isalpha():\n",
    "        if i not in freq:\n",
    "            freq[i]=1\n",
    "        elif i in freq:\n",
    "            freq[i]=freq[i]+1\n",
    "    else:\n",
    "        pass\n",
    "sortfreq = sorted(freq.items(), key = operator.itemgetter(0))\n",
    "print(sortfreq)\n",
    "\n",
    "for i in sortfreq:\n",
    "    print(i[0], i[1])\n",
    "    "
   ]
  },
  {
   "cell_type": "markdown",
   "id": "0ed81726",
   "metadata": {},
   "source": [
    "### 3.Define a class Person and its two child classes: Male and Female. All classes have a method &quot;getGender&quot; which can print &quot;Male&quot; for Male class and &quot;Female&quot; for Femaleclass."
   ]
  },
  {
   "cell_type": "code",
   "execution_count": 19,
   "id": "0394e538",
   "metadata": {},
   "outputs": [
    {
     "name": "stdout",
     "output_type": "stream",
     "text": [
      "Male\n",
      "Female\n"
     ]
    }
   ],
   "source": [
    "class person:\n",
    "    def __init__(self):\n",
    "        self.gender = 'gender'\n",
    "    def getGender(self):\n",
    "        print(self.gender)\n",
    "class Male(person):\n",
    "    def __init__(self):\n",
    "        self.gender=\"Male\"\n",
    "class Female(person):\n",
    "    def __init__(self):\n",
    "        self.gender='Female'\n",
    "\n",
    "Ramesh = Male()\n",
    "Neha = Female()\n",
    "Ramesh.getGender()\n",
    "Neha.getGender()"
   ]
  },
  {
   "cell_type": "markdown",
   "id": "b255a4a3",
   "metadata": {},
   "source": [
    "### 4. Please write a program to generate all sentences where subject is in [&quot;I&quot;, &quot;You&quot;] and verb is in [&quot;Play&quot;, &quot;Love&quot;] and the object is in [&quot;Hockey&quot;,&quot;Football&quot;]."
   ]
  },
  {
   "cell_type": "code",
   "execution_count": 2,
   "id": "36d62e0f",
   "metadata": {},
   "outputs": [
    {
     "name": "stdout",
     "output_type": "stream",
     "text": [
      "I Play Hockey\n",
      "I Play Football\n",
      "I Love Hockey\n",
      "I Love Football\n",
      "You Play Hockey\n",
      "You Play Football\n",
      "You Love Hockey\n",
      "You Love Football\n"
     ]
    }
   ],
   "source": [
    "sub=['I','You']\n",
    "vb=['Play','Love']\n",
    "ob =['Hockey','Football']\n",
    "sent=[(su+\" \"+v+\" \"+o) for su in sub for v in vb for o in ob]\n",
    "for sentec in sent:\n",
    "    print(sentec)"
   ]
  },
  {
   "cell_type": "markdown",
   "id": "5278bae6",
   "metadata": {},
   "source": [
    "### 5.Please write a program to compress and decompress the string &quot;hello world!hello world!hello world!hello world!&quot;."
   ]
  },
  {
   "cell_type": "code",
   "execution_count": 1,
   "id": "46bdf596",
   "metadata": {},
   "outputs": [],
   "source": [
    "import zlib"
   ]
  },
  {
   "cell_type": "code",
   "execution_count": 14,
   "id": "ed272ef7",
   "metadata": {},
   "outputs": [
    {
     "name": "stdout",
     "output_type": "stream",
     "text": [
      "b'x\\x9c\\xcbH\\xcd\\xc9\\xc9W(\\xcf/\\xcaIQ\\xcc \\x82\\r\\x00\\xbd[\\x11\\xf5'\n",
      "b'hello world!hello world!hello world!hello world!'\n"
     ]
    }
   ],
   "source": [
    "a = 'hello world!hello world!hello world!hello world!'\n",
    "c = bytes(a,'utf-8')\n",
    "b = zlib.compress(c)\n",
    "print(b)\n",
    "print(zlib.decompress(b))\n"
   ]
  },
  {
   "cell_type": "markdown",
   "id": "f452afc2",
   "metadata": {},
   "source": [
    "### 6. Please write a binary search function which searches an item in a sorted list. The function should return the index of element to be searched in the list."
   ]
  },
  {
   "cell_type": "code",
   "execution_count": 15,
   "id": "40f18d68",
   "metadata": {},
   "outputs": [],
   "source": [
    "import math \n"
   ]
  },
  {
   "cell_type": "code",
   "execution_count": null,
   "id": "a72d52bf",
   "metadata": {},
   "outputs": [],
   "source": [
    "def bi(li,ele):\n",
    "    bottom = 0\n",
    "    top=len(li)-1\n",
    "    index=-1\n",
    "    while top>=bottom and index ==-1:\n",
    "        mid = int(math.floor((top+bottom)/2.0))\n",
    "        if li[mid]==ele:\n",
    "            index = mid\n",
    "        elif li[mid]>ele:\n",
    "            top = mid-1\n",
    "        else:\n",
    "            bottom = mid+1\n",
    "    return index\n",
    "li=[2,4,5,67,11,223,11]\n",
    "print(b)"
   ]
  },
  {
   "cell_type": "code",
   "execution_count": null,
   "id": "837c1bd5",
   "metadata": {},
   "outputs": [],
   "source": [
    "top = mid-1\n",
    "        else:\n",
    "            bottom = mid+1\n",
    "\n",
    "    return index\n",
    "\n",
    "li=[2,5,7,9,11,17,222]\n",
    "print bin_search(li,11)\n",
    "print bin_search(li,12)"
   ]
  }
 ],
 "metadata": {
  "kernelspec": {
   "display_name": "Python 3 (ipykernel)",
   "language": "python",
   "name": "python3"
  },
  "language_info": {
   "codemirror_mode": {
    "name": "ipython",
    "version": 3
   },
   "file_extension": ".py",
   "mimetype": "text/x-python",
   "name": "python",
   "nbconvert_exporter": "python",
   "pygments_lexer": "ipython3",
   "version": "3.9.7"
  }
 },
 "nbformat": 4,
 "nbformat_minor": 5
}
