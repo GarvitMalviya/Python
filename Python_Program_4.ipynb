{
 "cells": [
  {
   "cell_type": "markdown",
   "id": "d9ecb99a",
   "metadata": {},
   "source": [
    "### 1. Write a python program to find the factorial of a number"
   ]
  },
  {
   "cell_type": "code",
   "execution_count": 5,
   "id": "ee86ce1a",
   "metadata": {},
   "outputs": [],
   "source": [
    "def fact():\n",
    "    num = int(input(\"Enter a number :\"))\n",
    "    f = 1\n",
    "    if num < 0:\n",
    "        print(\"Sorry Negetive NUmber\")\n",
    "    elif num == 0:\n",
    "        print(\"The Factorial is 1\")\n",
    "    else:\n",
    "        for i in range(1, num +1):\n",
    "            f = f * i \n",
    "        print(\"The Factorial of \",num,\"is\",f)\n",
    "        "
   ]
  },
  {
   "cell_type": "code",
   "execution_count": 8,
   "id": "fb36604c",
   "metadata": {},
   "outputs": [
    {
     "name": "stdout",
     "output_type": "stream",
     "text": [
      "Enter a number :14\n",
      "The Factorial of  14 is 87178291200\n"
     ]
    }
   ],
   "source": [
    "fact()"
   ]
  },
  {
   "cell_type": "markdown",
   "id": "d25394d0",
   "metadata": {},
   "source": [
    "### 2. Write a python program to display multiplication table"
   ]
  },
  {
   "cell_type": "code",
   "execution_count": 13,
   "id": "dc424a8e",
   "metadata": {},
   "outputs": [],
   "source": [
    "def table():\n",
    "    num = int(input(\"Enter a number :\"))\n",
    "    for a in range(1,11):\n",
    "        print(num,\"x\",a,\"=\", num*a)"
   ]
  },
  {
   "cell_type": "code",
   "execution_count": 14,
   "id": "91aef05c",
   "metadata": {},
   "outputs": [
    {
     "name": "stdout",
     "output_type": "stream",
     "text": [
      "Enter a number :12\n",
      "12 x 1 = 12\n",
      "12 x 2 = 24\n",
      "12 x 3 = 36\n",
      "12 x 4 = 48\n",
      "12 x 5 = 60\n",
      "12 x 6 = 72\n",
      "12 x 7 = 84\n",
      "12 x 8 = 96\n",
      "12 x 9 = 108\n",
      "12 x 10 = 120\n"
     ]
    }
   ],
   "source": [
    "table()\n",
    "\n"
   ]
  },
  {
   "cell_type": "markdown",
   "id": "98109067",
   "metadata": {},
   "source": [
    "### 3. Write a program to print fiboacci Series"
   ]
  },
  {
   "cell_type": "code",
   "execution_count": 18,
   "id": "63d829e1",
   "metadata": {},
   "outputs": [],
   "source": [
    "def feb():\n",
    "    n = int(input(\"Enter a number\"))\n",
    "    a=0\n",
    "    b=1\n",
    "    count = 0\n",
    "    if n<=0:\n",
    "        print(\"Wrong input \")\n",
    "    elif n== 1:\n",
    "        print(a)\n",
    "    else:\n",
    "        print(\"The fibnacci series is :\")\n",
    "    while count<n:\n",
    "        print(a)\n",
    "        c = a+b\n",
    "        a=b\n",
    "        b=c\n",
    "        count +=1\n",
    "        "
   ]
  },
  {
   "cell_type": "code",
   "execution_count": 19,
   "id": "ebc7cb6a",
   "metadata": {},
   "outputs": [
    {
     "name": "stdout",
     "output_type": "stream",
     "text": [
      "Enter a number4\n",
      "The fibnacci series is :\n",
      "0\n",
      "1\n",
      "1\n",
      "2\n"
     ]
    }
   ],
   "source": [
    "feb()"
   ]
  },
  {
   "cell_type": "markdown",
   "id": "c54d1030",
   "metadata": {},
   "source": [
    "### 4. Write a program to check Armstrong Number"
   ]
  },
  {
   "cell_type": "code",
   "execution_count": 20,
   "id": "e4a335b9",
   "metadata": {},
   "outputs": [],
   "source": [
    "def arm():\n",
    "    n = int(input(\"Enter a number :\"))\n",
    "    s = 0\n",
    "    t = n\n",
    "    while t >0:\n",
    "        digit = t % 10\n",
    "        s += digit **3\n",
    "        t//=10\n",
    "    \n",
    "    if n ==s:\n",
    "        print(n,\"is a Armstrong number.\")\n",
    "    else:\n",
    "        print(n,\"is not a Armstrong number\")"
   ]
  },
  {
   "cell_type": "code",
   "execution_count": 25,
   "id": "8107d34a",
   "metadata": {},
   "outputs": [
    {
     "name": "stdout",
     "output_type": "stream",
     "text": [
      "Enter a number :371\n",
      "371 is a Armstrong number.\n"
     ]
    }
   ],
   "source": [
    "arm()"
   ]
  },
  {
   "cell_type": "markdown",
   "id": "260850bc",
   "metadata": {},
   "source": [
    "### 5. write a program to find armstrong number in an interval"
   ]
  },
  {
   "cell_type": "code",
   "execution_count": 29,
   "id": "bb2bcb9b",
   "metadata": {},
   "outputs": [
    {
     "name": "stdout",
     "output_type": "stream",
     "text": [
      "The Armstrong number is: 1\n",
      "The Armstrong number is: 2\n",
      "The Armstrong number is: 3\n",
      "The Armstrong number is: 4\n",
      "The Armstrong number is: 5\n",
      "The Armstrong number is: 6\n",
      "The Armstrong number is: 7\n",
      "The Armstrong number is: 8\n",
      "The Armstrong number is: 9\n",
      "The Armstrong number is: 153\n",
      "The Armstrong number is: 370\n",
      "The Armstrong number is: 371\n",
      "The Armstrong number is: 407\n"
     ]
    }
   ],
   "source": [
    "l = 1\n",
    "h = 1000\n",
    "for num in range(l, h+1):\n",
    "    a = len(str(num))\n",
    "    sum=0\n",
    "    tem = num\n",
    "    while tem>0:\n",
    "        d = tem%10\n",
    "        sum += d ** a\n",
    "        tem//= 10\n",
    "    if num==sum:\n",
    "        print(\"The Armstrong number is:\", num)\n"
   ]
  },
  {
   "cell_type": "markdown",
   "id": "d476f335",
   "metadata": {},
   "source": [
    "### 6. Write a program to find sum of natural numbers"
   ]
  },
  {
   "cell_type": "code",
   "execution_count": 1,
   "id": "3f4457d9",
   "metadata": {},
   "outputs": [
    {
     "name": "stdout",
     "output_type": "stream",
     "text": [
      "Enter a number: 2324\n",
      "Sum of first <built-in function sum> natural number is 2324\n"
     ]
    }
   ],
   "source": [
    "n = int(input(\"Enter a number: \"))\n",
    "a = sum\n",
    "sum = 0\n",
    "if n<=0:\n",
    "    print(\"Number is natural number\")\n",
    "else:\n",
    "    while n>0:\n",
    "        sum = sum +1\n",
    "        n = n - 1\n",
    "    print(\"Sum of first\", a,\"natural number is\", sum)\n",
    "    "
   ]
  },
  {
   "cell_type": "code",
   "execution_count": null,
   "id": "248506b5",
   "metadata": {},
   "outputs": [],
   "source": []
  }
 ],
 "metadata": {
  "kernelspec": {
   "display_name": "Python 3 (ipykernel)",
   "language": "python",
   "name": "python3"
  },
  "language_info": {
   "codemirror_mode": {
    "name": "ipython",
    "version": 3
   },
   "file_extension": ".py",
   "mimetype": "text/x-python",
   "name": "python",
   "nbconvert_exporter": "python",
   "pygments_lexer": "ipython3",
   "version": "3.9.7"
  }
 },
 "nbformat": 4,
 "nbformat_minor": 5
}
