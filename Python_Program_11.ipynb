{
 "cells": [
  {
   "cell_type": "markdown",
   "id": "770b312c",
   "metadata": {},
   "source": [
    "### 1. Write a program to find words which are greater then given length k"
   ]
  },
  {
   "cell_type": "code",
   "execution_count": 1,
   "id": "89007c0c",
   "metadata": {},
   "outputs": [
    {
     "name": "stdout",
     "output_type": "stream",
     "text": [
      "['Prgram', 'find', 'words']\n"
     ]
    }
   ],
   "source": [
    "def string(k, str):\n",
    "    string=[]\n",
    "    text= str.split(\" \")\n",
    "    \n",
    "    for x in text:\n",
    "        if len(x)>k:\n",
    "            string.append(x)\n",
    "    return string\n",
    "k = 3\n",
    "str=\"Prgram to find words\"\n",
    "print(string(k, str))"
   ]
  },
  {
   "cell_type": "markdown",
   "id": "f04a0d39",
   "metadata": {},
   "source": [
    "### 2. Write a program to find i'th charater from a string"
   ]
  },
  {
   "cell_type": "code",
   "execution_count": 5,
   "id": "21978570",
   "metadata": {},
   "outputs": [
    {
     "name": "stdout",
     "output_type": "stream",
     "text": [
      "Welcme to Python\n"
     ]
    }
   ],
   "source": [
    "def remove(a, b):\n",
    "    for j in range(len(a)):\n",
    "        if j ==1:\n",
    "             a = a.replace(a[b], \"\", 1)\n",
    "    return a\n",
    "string = \"Welcome to Python\"\n",
    "b = 5\n",
    "print(remove(string, b-1))"
   ]
  },
  {
   "cell_type": "markdown",
   "id": "63b290c5",
   "metadata": {},
   "source": [
    "### 3. Write a program to join and split a string"
   ]
  },
  {
   "cell_type": "code",
   "execution_count": 8,
   "id": "9c3bbf9f",
   "metadata": {},
   "outputs": [
    {
     "name": "stdout",
     "output_type": "stream",
     "text": [
      "After Spliting:  ['Welcome', 'to', 'Python']\n",
      "After Joining:  Welcome to Python\n"
     ]
    }
   ],
   "source": [
    "def split_str(str):\n",
    "    l_string= str.split(' ')\n",
    "    return l_string\n",
    "\n",
    "def join_str(l_string):\n",
    "    str = ' '.join(l_string)\n",
    "    return str\n",
    "string = 'Welcome to Python'\n",
    "l_string = split_str(string)\n",
    "print(\"After Spliting: \", l_string)\n",
    "result_str = join_str(l_string)\n",
    "print('After Joining: ', result_str)\n",
    "    "
   ]
  },
  {
   "cell_type": "markdown",
   "id": "f2c80c7b",
   "metadata": {},
   "source": [
    "### 4. Write a program to check a given number is binary string or not"
   ]
  },
  {
   "cell_type": "code",
   "execution_count": 10,
   "id": "e718991c",
   "metadata": {},
   "outputs": [
    {
     "name": "stdout",
     "output_type": "stream",
     "text": [
      "It is not a binary string\n"
     ]
    }
   ],
   "source": [
    "strA = \"01100000001\"\n",
    "b = '10'\n",
    "count = 0\n",
    "for i in strA:\n",
    "    if i not in b:\n",
    "        count =1 \n",
    "        break\n",
    "    else:\n",
    "        pass\n",
    "if count:\n",
    "    print(\"It is binary string\")\n",
    "else:\n",
    "    print(\"It is not a binary string\")"
   ]
  },
  {
   "cell_type": "markdown",
   "id": "f467cc1b",
   "metadata": {},
   "source": [
    "### 5. Write a program to find uncommen words from two strings"
   ]
  },
  {
   "cell_type": "code",
   "execution_count": 12,
   "id": "b888020c",
   "metadata": {},
   "outputs": [
    {
     "name": "stdout",
     "output_type": "stream",
     "text": [
      "['ofhwrfuhrf', 'dhfwiof', 'weifew']\n"
     ]
    }
   ],
   "source": [
    "def uncommen_word(s1, s2):\n",
    "    count={}\n",
    "    for word in s1.split():\n",
    "        count[word]= count.get(word, 0)+1\n",
    "    for word in s2.split():\n",
    "        count[word]=count.get(word, 0)+1\n",
    "    return [word for word in count if count[word]==1]\n",
    "s1 = \"ofhwrfuhrf\"\n",
    "s2 = \"dhfwiof weifew  wf wf\"\n",
    "print(uncommen_word(s1,s2))"
   ]
  },
  {
   "cell_type": "markdown",
   "id": "bab59877",
   "metadata": {},
   "source": [
    "### 6. Write a program to find all duplicate character in string"
   ]
  },
  {
   "cell_type": "code",
   "execution_count": 19,
   "id": "09b12044",
   "metadata": {},
   "outputs": [
    {
     "name": "stdout",
     "output_type": "stream",
     "text": [
      "Duplicate characters in a given string: \n",
      "e\n",
      "o\n",
      "c\n",
      "t\n",
      "a\n",
      "h\n",
      "n\n"
     ]
    }
   ],
   "source": [
    "string = \"wleocme to batch of python data sciecne\"\n",
    "print(\"Duplicate characters in a given string: \")\n",
    "for i in range(0, len(string)):  \n",
    "    count = 1\n",
    "    for j in range(i+1, len(string)):  \n",
    "        if(string[i] == string[j] and string[i] != ' '):  \n",
    "            count = count + 1  \n",
    "            string = string[:j] + '0' + string[j+1:]   \n",
    "    if(count > 1 and string[i] != '0'):  \n",
    "        print(string[i]);  "
   ]
  },
  {
   "cell_type": "markdown",
   "id": "be523483",
   "metadata": {},
   "source": [
    "### 7. Write program to check if string contains any special character "
   ]
  },
  {
   "cell_type": "code",
   "execution_count": 20,
   "id": "b4fada91",
   "metadata": {},
   "outputs": [],
   "source": [
    "import re"
   ]
  },
  {
   "cell_type": "code",
   "execution_count": 26,
   "id": "876313ee",
   "metadata": {},
   "outputs": [
    {
     "name": "stdout",
     "output_type": "stream",
     "text": [
      "String contains Special Characters.\n"
     ]
    }
   ],
   "source": [
    "def check_splchar(test): \n",
    "    string_check= re.compile('[@_!#$%^&*()<>?/\\|}{~:]')\n",
    "     \n",
    "    if(string_check.search(test) == None): \n",
    "        print(\"String does not contain Special Characters.\")\n",
    "          \n",
    "    else: \n",
    "        print(\"String contains Special Characters.\")  \n",
    "if __name__ == '__main__' : \n",
    " \n",
    "    test = \"Welcome to dataScience $\"\n",
    "check_splchar(test) "
   ]
  },
  {
   "cell_type": "code",
   "execution_count": null,
   "id": "456614f3",
   "metadata": {},
   "outputs": [],
   "source": []
  }
 ],
 "metadata": {
  "kernelspec": {
   "display_name": "Python 3 (ipykernel)",
   "language": "python",
   "name": "python3"
  },
  "language_info": {
   "codemirror_mode": {
    "name": "ipython",
    "version": 3
   },
   "file_extension": ".py",
   "mimetype": "text/x-python",
   "name": "python",
   "nbconvert_exporter": "python",
   "pygments_lexer": "ipython3",
   "version": "3.9.7"
  }
 },
 "nbformat": 4,
 "nbformat_minor": 5
}
