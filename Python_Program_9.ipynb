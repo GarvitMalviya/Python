{
 "cells": [
  {
   "cell_type": "markdown",
   "id": "6cc58cdc",
   "metadata": {},
   "source": [
    "### 1. Write a program to check if a number is disarium or not."
   ]
  },
  {
   "cell_type": "code",
   "execution_count": 6,
   "id": "b1edc592",
   "metadata": {},
   "outputs": [
    {
     "name": "stdout",
     "output_type": "stream",
     "text": [
      "Enter a Number: 24\n",
      "The sum of digits are = 20\n",
      "24 is not Disarium Number\n"
     ]
    }
   ],
   "source": [
    "import math\n",
    "def callength(n):\n",
    "    leng=0\n",
    "    while(n!=0):\n",
    "        leng = leng +1\n",
    "        n= n//10\n",
    "    return leng\n",
    "def digitsSum(n,leng):\n",
    "    Sum=0\n",
    "    rem=0\n",
    "    \n",
    "    while n>0:\n",
    "        rem = num%10\n",
    "        Sum = Sum + math.pow(rem,leng)\n",
    "        n =n//10\n",
    "        leng= leng-1\n",
    "    return Sum\n",
    "\n",
    "num= int(input('Enter a Number: '))\n",
    "leng= callength(num)\n",
    "Sum= digitsSum(num, leng)\n",
    "\n",
    "print('The sum of digits are = %d' %Sum)\n",
    "if  Sum == num:\n",
    "    print('%d is Disarium Number' %num)\n",
    "else:\n",
    "    print('%d is not Disarium Number' %num)"
   ]
  },
  {
   "cell_type": "markdown",
   "id": "93d5c24c",
   "metadata": {},
   "source": [
    "### 2. Write a program to print all disarium number between 1 to 100."
   ]
  },
  {
   "cell_type": "code",
   "execution_count": 4,
   "id": "661bb2ce",
   "metadata": {},
   "outputs": [
    {
     "name": "stdout",
     "output_type": "stream",
     "text": [
      "Disarium number between 1 to 100 are: \n",
      "1\n",
      "2\n",
      "3\n",
      "4\n",
      "5\n",
      "6\n",
      "7\n",
      "8\n",
      "9\n",
      "89\n"
     ]
    }
   ],
   "source": [
    "def calleng(n):\n",
    "    leng=0\n",
    "    while(n !=0):\n",
    "        leng = leng +1\n",
    "        n = n//10\n",
    "    return leng\n",
    "def sumdigits(num):\n",
    "    rem = 0\n",
    "    sum = 0\n",
    "    len= calleng(num)\n",
    "    \n",
    "    while(num>0):\n",
    "        rem = num%10\n",
    "        sum=sum+(rem**len)\n",
    "        num = num//10\n",
    "        len = len-1\n",
    "    return sum\n",
    "result=0\n",
    "print('Disarium number between 1 to 100 are: ')\n",
    "for i in range(1,101):\n",
    "    result = sumdigits(i)\n",
    "    \n",
    "    if (result==i):\n",
    "        print(i)\n",
    "    \n",
    "    "
   ]
  },
  {
   "cell_type": "markdown",
   "id": "f1ef5c28",
   "metadata": {},
   "source": [
    "### 3. Write a program to check a number is happy or not."
   ]
  },
  {
   "cell_type": "code",
   "execution_count": 7,
   "id": "40a47a7f",
   "metadata": {},
   "outputs": [
    {
     "name": "stdout",
     "output_type": "stream",
     "text": [
      "82 is a happy number\n"
     ]
    }
   ],
   "source": [
    "def happynum(n):\n",
    "    rem = 0\n",
    "    sum = 0\n",
    "    \n",
    "    while(n>0):\n",
    "        rem = n%10\n",
    "        sum = sum+(rem * rem)\n",
    "        n=n//10\n",
    "    return sum\n",
    "num = 82\n",
    "result=num\n",
    "\n",
    "while(result !=1 and result!=4):\n",
    "    result = happynum(result)\n",
    "\n",
    "if (result ==1):\n",
    "    print(str(num)+ \" is a happy number\")\n",
    "elif(result==4):\n",
    "    print(str(num)+\" is not a happy number\")"
   ]
  },
  {
   "cell_type": "markdown",
   "id": "c0193417",
   "metadata": {},
   "source": [
    "### 4. Write a program to print happy number between 1 to 100"
   ]
  },
  {
   "cell_type": "code",
   "execution_count": 9,
   "id": "7c613ce7",
   "metadata": {},
   "outputs": [
    {
     "name": "stdout",
     "output_type": "stream",
     "text": [
      "Happy numbers between 1 to 100 are: \n",
      "1\n",
      "\n",
      "7\n",
      "\n",
      "10\n",
      "\n",
      "13\n",
      "\n",
      "19\n",
      "\n",
      "23\n",
      "\n",
      "28\n",
      "\n",
      "31\n",
      "\n",
      "32\n",
      "\n",
      "44\n",
      "\n",
      "49\n",
      "\n",
      "68\n",
      "\n",
      "70\n",
      "\n",
      "79\n",
      "\n",
      "82\n",
      "\n",
      "86\n",
      "\n",
      "91\n",
      "\n",
      "94\n",
      "\n",
      "97\n",
      "\n",
      "100\n",
      "\n"
     ]
    }
   ],
   "source": [
    "def happynum(num):\n",
    "    rem =0\n",
    "    sum=0\n",
    "    \n",
    "    while(num>0):\n",
    "        rem = num%10\n",
    "        sum = sum+(rem * rem)\n",
    "        num = num//10\n",
    "    return sum\n",
    "print('Happy numbers between 1 to 100 are: ')\n",
    "for i in range(1,101):\n",
    "    result=i\n",
    "    \n",
    "    while(result!=1 and result!=4):\n",
    "        result=happynum(result)\n",
    "    if (result==1):\n",
    "        print(i)\n",
    "        print(\"\")"
   ]
  },
  {
   "cell_type": "markdown",
   "id": "db8f73dd",
   "metadata": {},
   "source": [
    "### 5. Write a program to check whether the number is harshad number or not."
   ]
  },
  {
   "cell_type": "code",
   "execution_count": 10,
   "id": "f03ec182",
   "metadata": {},
   "outputs": [
    {
     "name": "stdout",
     "output_type": "stream",
     "text": [
      "Enter a number: 153\n",
      "153 is a harshad number\n"
     ]
    }
   ],
   "source": [
    "num = int(input('Enter a number: '))\n",
    "copy = num\n",
    "d_sum = 0\n",
    "while num:\n",
    "    d_sum +=num%10\n",
    "    num//=10\n",
    "if copy%d_sum==0:\n",
    "    print('%d is a harshad number'%(copy))\n",
    "else:\n",
    "    print('%d is not a harshad number'%(copy))"
   ]
  },
  {
   "cell_type": "markdown",
   "id": "40f6866e",
   "metadata": {},
   "source": [
    "### 6. Write a program to print pronic numbers between 1 to 100"
   ]
  },
  {
   "cell_type": "code",
   "execution_count": 11,
   "id": "b79e250d",
   "metadata": {},
   "outputs": [
    {
     "name": "stdout",
     "output_type": "stream",
     "text": [
      "Pronic number between 1 to 100\n",
      "2\n",
      "6\n",
      "12\n",
      "20\n",
      "30\n",
      "42\n",
      "56\n",
      "72\n",
      "90\n"
     ]
    }
   ],
   "source": [
    "def pronicnum(num):\n",
    "    flag = False\n",
    "    for j in range(1, num+1):\n",
    "        if ((j*(j+1))==num):\n",
    "            flag = True\n",
    "            break\n",
    "    return flag\n",
    "print('Pronic number between 1 to 100')\n",
    "for i in range(1,101):\n",
    "    if(pronicnum(i)):\n",
    "        print(i)"
   ]
  },
  {
   "cell_type": "code",
   "execution_count": null,
   "id": "e557ddaf",
   "metadata": {},
   "outputs": [],
   "source": []
  }
 ],
 "metadata": {
  "kernelspec": {
   "display_name": "Python 3 (ipykernel)",
   "language": "python",
   "name": "python3"
  },
  "language_info": {
   "codemirror_mode": {
    "name": "ipython",
    "version": 3
   },
   "file_extension": ".py",
   "mimetype": "text/x-python",
   "name": "python",
   "nbconvert_exporter": "python",
   "pygments_lexer": "ipython3",
   "version": "3.9.7"
  }
 },
 "nbformat": 4,
 "nbformat_minor": 5
}
